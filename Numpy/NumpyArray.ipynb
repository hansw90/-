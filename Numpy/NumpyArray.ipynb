{
 "cells": [
  {
   "cell_type": "markdown",
   "metadata": {},
   "source": [
    "# Numpy 배열 생성 함수와 shape 변환 함수"
   ]
  },
  {
   "cell_type": "markdown",
   "metadata": {},
   "source": [
    "- 정해진 크기 배열 생성 함수"
   ]
  },
  {
   "cell_type": "code",
   "execution_count": 7,
   "metadata": {},
   "outputs": [
    {
     "data": {
      "text/plain": [
       "(array([[0., 0., 0.],\n",
       "        [0., 0., 0.]]), (2, 3), dtype('float64'))"
      ]
     },
     "execution_count": 7,
     "metadata": {},
     "output_type": "execute_result"
    }
   ],
   "source": [
    "# zeros 함수는 배열의 모든 원소크기를 0로 지정해준 크기의 배열을 생성합니다,\n",
    "\n",
    "import numpy as np\n",
    "\n",
    "A = np.zeros((2,3))\n",
    "A, A.shape , A.dtype"
   ]
  },
  {
   "cell_type": "code",
   "execution_count": 8,
   "metadata": {},
   "outputs": [
    {
     "data": {
      "text/plain": [
       "(array([[1., 1., 1.],\n",
       "        [1., 1., 1.]]), (2, 3), dtype('float64'))"
      ]
     },
     "execution_count": 8,
     "metadata": {},
     "output_type": "execute_result"
    }
   ],
   "source": [
    "# ones 함수는 배열의 모든 원소크기를 1로 지정해준 크기의 배열을 생성합니다,\n",
    "\n",
    "B = np.ones((2,3))\n",
    "B , B.shape , B.dtype"
   ]
  },
  {
   "cell_type": "code",
   "execution_count": 11,
   "metadata": {},
   "outputs": [
    {
     "data": {
      "text/plain": [
       "(array([[6.79038653e-313, 2.33419537e-312, 2.44029516e-312,\n",
       "         1.15928874e-309, 9.70091596e-310],\n",
       "        [1.02229269e-309, 1.08289689e-309, 1.01397447e-309,\n",
       "         6.79038882e-313, 1.05140647e-309],\n",
       "        [9.46240363e-310, 6.79038888e-313, 1.00149713e-309,\n",
       "         1.09596839e-309, 1.15954338e-309],\n",
       "        [6.79038907e-313, 9.46240363e-310, 6.79038905e-313,\n",
       "         1.07534259e-309, 6.79038905e-313],\n",
       "        [1.04947546e-309, 9.71195034e-310, 9.33678374e-313,\n",
       "         2.22507386e-306, 4.94065646e-322]]), (5, 5), dtype('float64'))"
      ]
     },
     "execution_count": 11,
     "metadata": {},
     "output_type": "execute_result"
    }
   ],
   "source": [
    "# empty 함수는 초기화되지 않도록 지정한 크기의 배열을 생성합니다.\n",
    "\n",
    "C = np.empty((5,5))\n",
    "C, C.shape, C.dtype"
   ]
  },
  {
   "cell_type": "code",
   "execution_count": 12,
   "metadata": {},
   "outputs": [
    {
     "data": {
      "text/plain": [
       "array([[0.70856095, 0.94988745, 0.908329  ],\n",
       "       [0.21771405, 0.31160331, 0.02305907],\n",
       "       [0.94494885, 0.31156358, 0.51839222]])"
      ]
     },
     "execution_count": 12,
     "metadata": {},
     "output_type": "execute_result"
    }
   ],
   "source": [
    "# random 함수는 0~1 사이의 무작위 값으로 채워진 지정한 크기의 배열을 생성합니다.\n",
    "\n",
    "D = np.random.random((3,3))\n",
    "D\n"
   ]
  },
  {
   "cell_type": "code",
   "execution_count": 13,
   "metadata": {},
   "outputs": [
    {
     "data": {
      "text/plain": [
       "array([[5, 9, 2, 1, 3],\n",
       "       [1, 3, 4, 3, 8],\n",
       "       [7, 1, 6, 2, 5],\n",
       "       [6, 6, 1, 9, 2],\n",
       "       [9, 3, 9, 1, 4]])"
      ]
     },
     "execution_count": 13,
     "metadata": {},
     "output_type": "execute_result"
    }
   ],
   "source": [
    "# 1~9 사이의 무작위 값을 생성하여 크기 2x2 배열의 원소로 사용\n",
    "\n",
    "E = np.random.randint(1,10,(5,5))\n",
    "E"
   ]
  },
  {
   "cell_type": "markdown",
   "metadata": {},
   "source": []
  }
 ],
 "metadata": {
  "kernelspec": {
   "display_name": "Python 3",
   "language": "python",
   "name": "python3"
  },
  "language_info": {
   "codemirror_mode": {
    "name": "ipython",
    "version": 3
   },
   "file_extension": ".py",
   "mimetype": "text/x-python",
   "name": "python",
   "nbconvert_exporter": "python",
   "pygments_lexer": "ipython3",
   "version": "3.7.4"
  }
 },
 "nbformat": 4,
 "nbformat_minor": 2
}
