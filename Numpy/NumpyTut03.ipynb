{
 "cells": [
  {
   "cell_type": "raw",
   "metadata": {},
   "source": []
  },
  {
   "cell_type": "code",
   "execution_count": 18,
   "metadata": {},
   "outputs": [
    {
     "data": {
      "text/plain": [
       "array([1.0008456 , 0.48907341])"
      ]
     },
     "execution_count": 18,
     "metadata": {},
     "output_type": "execute_result"
    }
   ],
   "source": [
    "\"\"\"\n",
    "최소제곱법 : 선형회귀\n",
    "최소제곱법(Method of Least Squares)\n",
    "함수 값과 측정 값의 차이인 오차를 제곱한 것의 합이 최소가 되는 함수 Y=F(X)를 구하는 방법\n",
    "f(x)=ax+b 의 경우 f(x)를 최소화 하도록 a,b를 결정 짓는 방법\n",
    "\n",
    "polyfit과 poly1d를 이용한 선형회귀\n",
    "    - np.polyfit(x, y, degree) : 주어진 측정 값들로 다항식의 계수를 구함\n",
    "        x array, y array값을 입력 , degree는 다항식의 차수\n",
    "        (degree = 1) 1항식 경우 y = ax+b\n",
    "        (degree = 2) 2항식 경우 y = ax^2 + bx + c\n",
    "        (degree = 3) 3항식 경우 y = ax^3 + bx^2 + cx + d\n",
    "    \n",
    "    - np.poly1d(coefficients) 다항식 계수로 1차원 다항식 함수 생성\n",
    "        fx = np.poly1d([1,2,3]) : 1x^2 + 2x + 3 식을 갖는 다항식 함수 생성\n",
    "        fx([1,2,3,4,5]) -> x값으로 1,2,3,4,5를 받아 다항식 fx 함수로 연산\n",
    "\"\"\"\n",
    "\n",
    "import numpy as np\n",
    "\n",
    "x = np.arange(0,10,0.01)\n",
    "y = 3*x + 5\n",
    "y_noise = y + np.random.rand(len(y))\n",
    "fp1 = np.polyfit(y,y_noise,1)\n",
    "fp1"
   ]
  },
  {
   "cell_type": "code",
   "execution_count": 21,
   "metadata": {},
   "outputs": [
    {
     "data": {
      "text/plain": [
       "array([0.48907341, 1.48991901, 2.49076461, 3.4916102 ])"
      ]
     },
     "execution_count": 21,
     "metadata": {},
     "output_type": "execute_result"
    }
   ],
   "source": [
    "fx=np.poly1d(fp1)\n",
    "fx([0,1,2,3])"
   ]
  },
  {
   "cell_type": "code",
   "execution_count": null,
   "metadata": {},
   "outputs": [],
   "source": []
  }
 ],
 "metadata": {
  "kernelspec": {
   "display_name": "Python 3",
   "language": "python",
   "name": "python3"
  },
  "language_info": {
   "codemirror_mode": {
    "name": "ipython",
    "version": 3
   },
   "file_extension": ".py",
   "mimetype": "text/x-python",
   "name": "python",
   "nbconvert_exporter": "python",
   "pygments_lexer": "ipython3",
   "version": "3.7.0"
  }
 },
 "nbformat": 4,
 "nbformat_minor": 2
}
