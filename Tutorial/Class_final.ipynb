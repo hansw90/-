{
 "cells": [
  {
   "cell_type": "markdown",
   "metadata": {},
   "source": [
    "# Class 알아보기\n",
    "\n",
    "객체지향 언어들은 공통적으로 클래스를 지원합니다.\n",
    "\n",
    "1. 클래스란 무엇인가?\n",
    "2. 클래스 변수와 클래스 함수를 이해한다.\n",
    "3. 클래스의 self와 init에 대한 이해\n",
    "4. 클래스의 상속에 대한 이해\n",
    "\n",
    "에 대해 알아보겠습니다,"
   ]
  },
  {
   "cell_type": "markdown",
   "metadata": {},
   "source": [
    "## 1. 클래스란?\n",
    "\n",
    "우리는 이미 (Object-Oriented) 객체지향이라는 개념에 대해 알고 있습니다.  \n",
    "클래스(Class)는 이 객체지향을 구현함에 있어 핵심적인 부분입니다.  \n",
    "그렇다면 클래스란 무엇이고 왜 필요한 것일까요?\n",
    "예를 들어 자동차에 대한 정보를 다루는 프로그램을 설계한다고 합시다.  "
   ]
  },
  {
   "cell_type": "code",
   "execution_count": 1,
   "metadata": {},
   "outputs": [],
   "source": [
    "# 자동차1\n",
    "car_brand1 = \"Toyota\"\n",
    "car_color1 = \"Red\"\n",
    "car_year1 = 1996\n",
    "\n",
    "# 자동차2\n",
    "car_brand2 = \"Hyundai\"\n",
    "car_color2 = \"Blue\"\n",
    "car_year3 = 2009\n",
    "\n",
    "# 자동차3\n",
    "car_brand3 = \"BMW\"\n",
    "car_color = \"Yellow\"\n",
    "car_year = 2000"
   ]
  },
  {
   "cell_type": "markdown",
   "metadata": {},
   "source": [
    "위 코드는 세가지 차의 브랜드와 색상 제작년도가 각각 적혀 있습니다.  \n",
    "이렇게 반복되는 코드는 잘 짜여진 코드라 할 수 있습니다.  \n",
    "지금은 차가 3종류 밖에 없어 일일이 쓰는것이 가능하지만 차가 100대이상 1000대 만대를 넘어가면 이는 굉장히 비효율적인 코드입니다.  \n",
    "\n",
    "이럴 때 사용할수 있는것이 Class(클래스)입니다. "
   ]
  },
  {
   "cell_type": "code",
   "execution_count": 2,
   "metadata": {},
   "outputs": [],
   "source": [
    "class Car :\n",
    "    def __init__(self, brand, color, year) :\n",
    "        self.brand = brand\n",
    "        self.color = color\n",
    "        self.year = year\n",
    "\n",
    "car1 = Car(\"Totota\", \"Red\", 1996)\n",
    "car2 = Car(\"Hyundai\", \"BLUE\", 2016)\n",
    "car3 = Car(\"BMW\", \"BLACK\", 2006)"
   ]
  },
  {
   "cell_type": "markdown",
   "metadata": {},
   "source": [
    "이때 Car 은 자동차 클래스이고,  \n",
    "car1,car2,car3는 Car클래스의 (인스턴스)가 됩니다.  \n",
    "\n",
    "이처럼 클래스는 비슷한 속성을 가진 객체를 묶는 큰 틀이라고 생각할 수 있습니다."
   ]
  },
  {
   "cell_type": "markdown",
   "metadata": {},
   "source": [
    "## 2. 클래스 변수/메소드"
   ]
  },
  {
   "cell_type": "markdown",
   "metadata": {},
   "source": [
    "이제 클래스 변수와 클래스 메소드에 대해 알아보겠습니다.  \n",
    "\n",
    "클래스에서는 변수와 함수를 사용합니다.  \n",
    "하지만 클래스에서는 함수를 메소드라는 이름으로 부릅니다.  \n",
    "변수와 메소드가 클래스 내에서 어떻게 동작하는지 알아보겠습니다.  "
   ]
  },
  {
   "cell_type": "code",
   "execution_count": 3,
   "metadata": {},
   "outputs": [],
   "source": [
    "class Car :\n",
    "    honk = \"빵빵\""
   ]
  },
  {
   "cell_type": "markdown",
   "metadata": {},
   "source": [
    "print(honk)"
   ]
  },
  {
   "cell_type": "markdown",
   "metadata": {},
   "source": [
    "위의 클래스 Car은 \"빵빵\"이라는 값을 가진 honk 변수이니다.  \n",
    "하지만 위에 나와있는 것처럼 honk 라는 변수를 외부에서 호출하려고 하면 에러가 발생합니다.  \n",
    "이처럼 클래스 안에 있는 변수는 해당 클래스의 인스턴스!! 를 통해서만 호출이 가능합니다.  "
   ]
  },
  {
   "cell_type": "code",
   "execution_count": 5,
   "metadata": {},
   "outputs": [
    {
     "name": "stdout",
     "output_type": "stream",
     "text": [
      "빵빵\n"
     ]
    }
   ],
   "source": [
    "my_car = Car()\n",
    "print(my_car.honk)"
   ]
  },
  {
   "cell_type": "markdown",
   "metadata": {},
   "source": [
    "my_car 라는 Car클래스의 새로운 인스턴스를 생성뒤 호출하면 변수에 저장되어 있는 \"빵빵\"을 얻을 수 있습니다.  "
   ]
  },
  {
   "cell_type": "markdown",
   "metadata": {},
   "source": [
    "*** "
   ]
  },
  {
   "cell_type": "markdown",
   "metadata": {},
   "source": [
    "다음은 클래스의 메소드에 대해 알아보겠습니다.  "
   ]
  },
  {
   "cell_type": "code",
   "execution_count": 6,
   "metadata": {},
   "outputs": [],
   "source": [
    "class Car :\n",
    "    honk = \"빵빵\"\n",
    "    \n",
    "    def info(self, color, year) :\n",
    "        print(\"color : %s, year: %d\" % (color, year))"
   ]
  },
  {
   "cell_type": "code",
   "execution_count": 7,
   "metadata": {},
   "outputs": [
    {
     "name": "stdout",
     "output_type": "stream",
     "text": [
      "color : Red, year: 2017\n"
     ]
    }
   ],
   "source": [
    "new_car = Car()\n",
    "new_car.info(\"Red\",2017)"
   ]
  },
  {
   "cell_type": "code",
   "execution_count": 10,
   "metadata": {
    "scrolled": true
   },
   "outputs": [
    {
     "ename": "TypeError",
     "evalue": "info() missing 2 required positional arguments: 'color' and 'year'",
     "output_type": "error",
     "traceback": [
      "\u001b[1;31m---------------------------------------------------------------------------\u001b[0m",
      "\u001b[1;31mTypeError\u001b[0m                                 Traceback (most recent call last)",
      "\u001b[1;32m<ipython-input-10-897a61c09eb4>\u001b[0m in \u001b[0;36m<module>\u001b[1;34m\u001b[0m\n\u001b[1;32m----> 1\u001b[1;33m \u001b[0mnew_car\u001b[0m\u001b[1;33m.\u001b[0m\u001b[0minfo\u001b[0m\u001b[1;33m(\u001b[0m\u001b[1;33m)\u001b[0m\u001b[1;33m\u001b[0m\u001b[1;33m\u001b[0m\u001b[0m\n\u001b[0m\u001b[0;32m      2\u001b[0m \u001b[1;31m# 메소드로 넘겨주는 파라미터가 없으면 필요로 하는 에러메세지가 출력됩니다.\u001b[0m\u001b[1;33m\u001b[0m\u001b[1;33m\u001b[0m\u001b[1;33m\u001b[0m\u001b[0m\n",
      "\u001b[1;31mTypeError\u001b[0m: info() missing 2 required positional arguments: 'color' and 'year'"
     ]
    }
   ],
   "source": [
    "new_car.info()\n",
    "# 메소드로 넘겨주는 파라미터가 없으면 필요로 하는 에러메세지가 출력됩니다."
   ]
  },
  {
   "cell_type": "markdown",
   "metadata": {},
   "source": [
    "info 함수는 color와 year를 입력값으로 받는 클래스 메소드 입니다.   \n",
    "\n",
    "self는 간단히 말하면 이 함수를 호출하는 객체가 이 클래스의 객체인지를 확인하는 장치라고 생각하면 됩니다.   \n",
    "\n",
    "새로운 인스턴스 new_car 을 생성한뒤 \"Red\"와 2017 이라는 입력값을 주어 info 함수를 g호출하여 출력값 color : Red ,year :2017 을 리턴 받고 있습니다.  \n",
    "\n",
    "클래스 변수와 마찬가지로 클래스 메소드를 호출하기 위해서는 먼저 해당 클래스의 인스턴스를 만들고,  그인스턴스를 이용하여 메소드를 호출해야 합니다.  "
   ]
  },
  {
   "cell_type": "markdown",
   "metadata": {},
   "source": [
    "***"
   ]
  },
  {
   "cell_type": "markdown",
   "metadata": {},
   "source": [
    "## 3. 클래스 self란??"
   ]
  },
  {
   "cell_type": "markdown",
   "metadata": {},
   "source": [
    "앞에서 입력값을 받는 클래스 메소드를 생성할 떄 가장 먼저 self를 쓰게 됩니다."
   ]
  },
  {
   "cell_type": "code",
   "execution_count": 16,
   "metadata": {},
   "outputs": [],
   "source": [
    "class Car : \n",
    "    honk = \"빵빵\"\n",
    "    \n",
    "    def info(self, color, year) :\n",
    "        print(\"color : %s , year : %d\" % (color,year))"
   ]
  },
  {
   "cell_type": "code",
   "execution_count": 19,
   "metadata": {},
   "outputs": [
    {
     "name": "stdout",
     "output_type": "stream",
     "text": [
      "color : red , year : 1999\n"
     ]
    }
   ],
   "source": [
    "new_car = Car()\n",
    "new_car.info(\"red\",1999)"
   ]
  },
  {
   "cell_type": "markdown",
   "metadata": {},
   "source": [
    "위와 같이 클래스 메소드의 첫 번째 인수로 self를 써줘야만 해당 메소드를 인스턴스의 메소드로 사용할 수 있게 됩니다.  \n",
    "\n",
    "self는 간단히 말하면 이 메소드를 부르는 객체가 해당 클래스의 인스턴스인지 확인해 주기위한 장치입니다.  \n",
    "\n",
    "하지만 단순히 확인하는 것에서 나아가 self를 이용하여 객체 내의 정보를 저장하거나 불러올 수 있습니다.   "
   ]
  },
  {
   "cell_type": "code",
   "execution_count": 22,
   "metadata": {},
   "outputs": [],
   "source": [
    "class Car() :\n",
    "    honk =\"Baaang\"\n",
    "    \n",
    "    def set_info(self, color, year) :\n",
    "        self.color = color\n",
    "        self.year = year\n",
    "    \n",
    "    \n",
    "    def get_info(self) :\n",
    "        print(\"color: %s , year: %d\" % (self.color, self.year))"
   ]
  },
  {
   "cell_type": "markdown",
   "metadata": {},
   "source": [
    "위의 my_car 이라는 Car의 인스턴스를 이용하여 my_car.set_info(\"red\",2201)을 수행하면 self.color에는 \"red\"값이 self.year 에는 2017 값이 저장된다. 이때 self는 my_car라는 객체입니다."
   ]
  },
  {
   "cell_type": "code",
   "execution_count": 25,
   "metadata": {},
   "outputs": [],
   "source": [
    "my_car = Car()\n",
    "my_car.set_info(\"red\",2201)"
   ]
  },
  {
   "cell_type": "code",
   "execution_count": 26,
   "metadata": {},
   "outputs": [
    {
     "name": "stdout",
     "output_type": "stream",
     "text": [
      "color: red , year: 2201\n"
     ]
    }
   ],
   "source": [
    "my_car.get_info()"
   ]
  },
  {
   "cell_type": "markdown",
   "metadata": {},
   "source": [
    "그러면 Self 를 이용하지 않고 그냥 클래스(Class)안에 변수를 만들어 저장 변경 이용하면 뭐가 다를까 싶을것 입니다.  \n",
    "한번 알아보도록 하겠습니다.  "
   ]
  },
  {
   "cell_type": "code",
   "execution_count": 88,
   "metadata": {},
   "outputs": [],
   "source": [
    "class Car() :\n",
    "    honk = \"Baam!!\"\n",
    "    color =\"Red\"\n",
    "    year = 2019\n",
    "    \n",
    "    def get_info(self) :\n",
    "        global honk\n",
    "        print(honk, color, year)"
   ]
  },
  {
   "cell_type": "code",
   "execution_count": 89,
   "metadata": {},
   "outputs": [
    {
     "data": {
      "text/plain": [
       "'Baam!!'"
      ]
     },
     "execution_count": 89,
     "metadata": {},
     "output_type": "execute_result"
    }
   ],
   "source": [
    "your_car = Car()\n",
    "my_car = Car()\n",
    "your_car.honk"
   ]
  },
  {
   "cell_type": "code",
   "execution_count": 90,
   "metadata": {},
   "outputs": [],
   "source": [
    "your_car.honk = \"BIIP\""
   ]
  },
  {
   "cell_type": "code",
   "execution_count": 91,
   "metadata": {},
   "outputs": [
    {
     "data": {
      "text/plain": [
       "'BIIP'"
      ]
     },
     "execution_count": 91,
     "metadata": {},
     "output_type": "execute_result"
    }
   ],
   "source": [
    "your_car.honk"
   ]
  },
  {
   "cell_type": "code",
   "execution_count": 92,
   "metadata": {},
   "outputs": [
    {
     "data": {
      "text/plain": [
       "'Baam!!'"
      ]
     },
     "execution_count": 92,
     "metadata": {},
     "output_type": "execute_result"
    }
   ],
   "source": [
    "my_car.honk"
   ]
  },
  {
   "cell_type": "markdown",
   "metadata": {},
   "source": [
    "!!? 음 큰 차이가 없긴 한데 왜 self를 이용하는것일까??"
   ]
  },
  {
   "cell_type": "code",
   "execution_count": 93,
   "metadata": {},
   "outputs": [
    {
     "ename": "NameError",
     "evalue": "name 'honk' is not defined",
     "output_type": "error",
     "traceback": [
      "\u001b[1;31m---------------------------------------------------------------------------\u001b[0m",
      "\u001b[1;31mNameError\u001b[0m                                 Traceback (most recent call last)",
      "\u001b[1;32m<ipython-input-93-0a62ce51de62>\u001b[0m in \u001b[0;36m<module>\u001b[1;34m\u001b[0m\n\u001b[1;32m----> 1\u001b[1;33m \u001b[0mmy_car\u001b[0m\u001b[1;33m.\u001b[0m\u001b[0mget_info\u001b[0m\u001b[1;33m(\u001b[0m\u001b[1;33m)\u001b[0m\u001b[1;33m\u001b[0m\u001b[1;33m\u001b[0m\u001b[0m\n\u001b[0m",
      "\u001b[1;32m<ipython-input-88-da0648e6e681>\u001b[0m in \u001b[0;36mget_info\u001b[1;34m(self)\u001b[0m\n\u001b[0;32m      6\u001b[0m     \u001b[1;32mdef\u001b[0m \u001b[0mget_info\u001b[0m\u001b[1;33m(\u001b[0m\u001b[0mself\u001b[0m\u001b[1;33m)\u001b[0m \u001b[1;33m:\u001b[0m\u001b[1;33m\u001b[0m\u001b[1;33m\u001b[0m\u001b[0m\n\u001b[0;32m      7\u001b[0m         \u001b[1;32mglobal\u001b[0m \u001b[0mhonk\u001b[0m\u001b[1;33m\u001b[0m\u001b[1;33m\u001b[0m\u001b[0m\n\u001b[1;32m----> 8\u001b[1;33m         \u001b[0mprint\u001b[0m\u001b[1;33m(\u001b[0m\u001b[0mhonk\u001b[0m\u001b[1;33m,\u001b[0m \u001b[0mcolor\u001b[0m\u001b[1;33m,\u001b[0m \u001b[0myear\u001b[0m\u001b[1;33m)\u001b[0m\u001b[1;33m\u001b[0m\u001b[1;33m\u001b[0m\u001b[0m\n\u001b[0m",
      "\u001b[1;31mNameError\u001b[0m: name 'honk' is not defined"
     ]
    }
   ],
   "source": [
    "my_car.get_info()"
   ]
  },
  {
   "cell_type": "markdown",
   "metadata": {},
   "source": [
    "***\n",
    "오잉? honk 를 사용 불가하다고?   \n",
    "global 변수명을 선언해도 불가하다.  \n",
    "클래스내 메소드에선 클래스 변수를 사용할 수가 없다??? 뭐지!!?  \n",
    "\n",
    "내 생각이지만 이러한 이유로 Class내에선 self를 사용하는것이 아닐까??\n",
    "***"
   ]
  },
  {
   "cell_type": "markdown",
   "metadata": {},
   "source": [
    "## 4. 클래스 __init__ 이란?"
   ]
  },
  {
   "cell_type": "code",
   "execution_count": 94,
   "metadata": {},
   "outputs": [],
   "source": [
    "class Car :\n",
    "    honk = \"빵빵\"\n",
    "    \n",
    "    def set_info(self, color, year) :\n",
    "        self.color = color\n",
    "        self.year = year\n",
    "        \n",
    "    def get_info(self) :\n",
    "        print(\"color : %s , year : %d\" % (self.color,self.year))"
   ]
  },
  {
   "cell_type": "code",
   "execution_count": 95,
   "metadata": {},
   "outputs": [
    {
     "name": "stdout",
     "output_type": "stream",
     "text": [
      "color : Red , year : 2017\n"
     ]
    }
   ],
   "source": [
    "my_car = Car()\n",
    "my_car.set_info(\"Red\",2017)\n",
    "my_car.get_info()"
   ]
  },
  {
   "cell_type": "code",
   "execution_count": 98,
   "metadata": {},
   "outputs": [
    {
     "ename": "AttributeError",
     "evalue": "'Car' object has no attribute 'color'",
     "output_type": "error",
     "traceback": [
      "\u001b[1;31m---------------------------------------------------------------------------\u001b[0m",
      "\u001b[1;31mAttributeError\u001b[0m                            Traceback (most recent call last)",
      "\u001b[1;32m<ipython-input-98-e8d3ea508313>\u001b[0m in \u001b[0;36m<module>\u001b[1;34m\u001b[0m\n\u001b[0;32m      1\u001b[0m \u001b[0mnew_car\u001b[0m \u001b[1;33m=\u001b[0m \u001b[0mCar\u001b[0m\u001b[1;33m(\u001b[0m\u001b[1;33m)\u001b[0m\u001b[1;33m\u001b[0m\u001b[1;33m\u001b[0m\u001b[0m\n\u001b[1;32m----> 2\u001b[1;33m \u001b[0mnew_car\u001b[0m\u001b[1;33m.\u001b[0m\u001b[0mget_info\u001b[0m\u001b[1;33m(\u001b[0m\u001b[1;33m)\u001b[0m\u001b[1;33m\u001b[0m\u001b[1;33m\u001b[0m\u001b[0m\n\u001b[0m",
      "\u001b[1;32m<ipython-input-94-461c08db96e2>\u001b[0m in \u001b[0;36mget_info\u001b[1;34m(self)\u001b[0m\n\u001b[0;32m      7\u001b[0m \u001b[1;33m\u001b[0m\u001b[0m\n\u001b[0;32m      8\u001b[0m     \u001b[1;32mdef\u001b[0m \u001b[0mget_info\u001b[0m\u001b[1;33m(\u001b[0m\u001b[0mself\u001b[0m\u001b[1;33m)\u001b[0m \u001b[1;33m:\u001b[0m\u001b[1;33m\u001b[0m\u001b[1;33m\u001b[0m\u001b[0m\n\u001b[1;32m----> 9\u001b[1;33m         \u001b[0mprint\u001b[0m\u001b[1;33m(\u001b[0m\u001b[1;34m\"color : %s , year : %d\"\u001b[0m \u001b[1;33m%\u001b[0m \u001b[1;33m(\u001b[0m\u001b[0mself\u001b[0m\u001b[1;33m.\u001b[0m\u001b[0mcolor\u001b[0m\u001b[1;33m,\u001b[0m\u001b[0mself\u001b[0m\u001b[1;33m.\u001b[0m\u001b[0myear\u001b[0m\u001b[1;33m)\u001b[0m\u001b[1;33m)\u001b[0m\u001b[1;33m\u001b[0m\u001b[1;33m\u001b[0m\u001b[0m\n\u001b[0m",
      "\u001b[1;31mAttributeError\u001b[0m: 'Car' object has no attribute 'color'"
     ]
    }
   ],
   "source": [
    "new_car = Car()\n",
    "new_car.get_info()"
   ]
  },
  {
   "cell_type": "markdown",
   "metadata": {},
   "source": [
    "위의 코드는 이전에 코드에 new_car 라는 새로운 Car 클래스의 인스턴스를 추가 한 코드입니다.  \n",
    "\n",
    "그러나 new_car 객체에는 깜박하고 set_info()를 통해 색과 제작년도를 설정하지 않았습니다. 그후 바로 get_info를 불렀더니 위와 같은 오류를 호출하는 것을 볼 수 있습니다.  "
   ]
  },
  {
   "cell_type": "markdown",
   "metadata": {},
   "source": [
    "***"
   ]
  },
  {
   "cell_type": "markdown",
   "metadata": {},
   "source": [
    "이처럼 get_info()를 호출하기 위해선 반드시 color와 year 값이 존재해야 함을 알 수 있습니다.  \n",
    "\n",
    "이러한 오류르르 줄이기 위해 클래스의 인스턴스를 생성할때 color와 yaer값을 받으면 안될까요?    \n",
    "\n",
    "!! 물론 가능합니다. !! 방법은 아래와 같습니다.  "
   ]
  },
  {
   "cell_type": "code",
   "execution_count": 99,
   "metadata": {},
   "outputs": [],
   "source": [
    "class Car :\n",
    "    honk = \"빠아아아\"\n",
    "    def __init__ (self, color, year) :\n",
    "        self.color = color\n",
    "        self.year = year \n",
    "        print(\"새로운 Car 인스턴스가 생성되었습니다.\")\n",
    "        \n",
    "    def get_info(self) :\n",
    "        print(\"color : %s , year : %d\" % (self.color,self.year))"
   ]
  },
  {
   "cell_type": "code",
   "execution_count": 101,
   "metadata": {},
   "outputs": [
    {
     "name": "stdout",
     "output_type": "stream",
     "text": [
      "새로운 Car 인스턴스가 생성되었습니다.\n"
     ]
    }
   ],
   "source": [
    "my_car = Car(\"red\",2022)"
   ]
  },
  {
   "cell_type": "code",
   "execution_count": 102,
   "metadata": {},
   "outputs": [
    {
     "name": "stdout",
     "output_type": "stream",
     "text": [
      "color : red , year : 2022\n"
     ]
    }
   ],
   "source": [
    "my_car.get_info()"
   ]
  },
  {
   "cell_type": "markdown",
   "metadata": {},
   "source": [
    "이렇게 인스턴스 생성 초기에 변수를 지정해 주는 것을 도와주는 것이 __init__ 메소드 입니다.  "
   ]
  },
  {
   "cell_type": "code",
   "execution_count": 105,
   "metadata": {},
   "outputs": [
    {
     "ename": "TypeError",
     "evalue": "__init__() missing 1 required positional argument: 'year'",
     "output_type": "error",
     "traceback": [
      "\u001b[1;31m---------------------------------------------------------------------------\u001b[0m",
      "\u001b[1;31mTypeError\u001b[0m                                 Traceback (most recent call last)",
      "\u001b[1;32m<ipython-input-105-70c32c9b39e0>\u001b[0m in \u001b[0;36m<module>\u001b[1;34m\u001b[0m\n\u001b[1;32m----> 1\u001b[1;33m \u001b[0myour_car\u001b[0m \u001b[1;33m=\u001b[0m \u001b[0mCar\u001b[0m\u001b[1;33m(\u001b[0m\u001b[1;34m'1'\u001b[0m\u001b[1;33m)\u001b[0m\u001b[1;33m\u001b[0m\u001b[1;33m\u001b[0m\u001b[0m\n\u001b[0m",
      "\u001b[1;31mTypeError\u001b[0m: __init__() missing 1 required positional argument: 'year'"
     ]
    }
   ],
   "source": [
    "your_car = Car()"
   ]
  },
  {
   "cell_type": "code",
   "execution_count": 106,
   "metadata": {},
   "outputs": [
    {
     "ename": "TypeError",
     "evalue": "__init__() missing 1 required positional argument: 'year'",
     "output_type": "error",
     "traceback": [
      "\u001b[1;31m---------------------------------------------------------------------------\u001b[0m",
      "\u001b[1;31mTypeError\u001b[0m                                 Traceback (most recent call last)",
      "\u001b[1;32m<ipython-input-106-60c3dd4a99e1>\u001b[0m in \u001b[0;36m<module>\u001b[1;34m\u001b[0m\n\u001b[1;32m----> 1\u001b[1;33m \u001b[0myour_car\u001b[0m \u001b[1;33m=\u001b[0m \u001b[0mCar\u001b[0m\u001b[1;33m(\u001b[0m\u001b[1;34m'Blue'\u001b[0m\u001b[1;33m)\u001b[0m\u001b[1;33m\u001b[0m\u001b[1;33m\u001b[0m\u001b[0m\n\u001b[0m",
      "\u001b[1;31mTypeError\u001b[0m: __init__() missing 1 required positional argument: 'year'"
     ]
    }
   ],
   "source": [
    "your_car = Car('Blue')"
   ]
  },
  {
   "cell_type": "markdown",
   "metadata": {},
   "source": [
    "하지만 __init__ 을 이용할때 파라미터를 정확히 입력하지 않으면 위와같은 에러를 발생시킵니다.  "
   ]
  },
  {
   "cell_type": "markdown",
   "metadata": {},
   "source": [
    "***"
   ]
  },
  {
   "cell_type": "markdown",
   "metadata": {},
   "source": [
    "__init__ 메소드는 초기화 메소드 혹은 생성자라고 불리며, 이 메소드의 인자들은 다음과 같이 인스턴스를 만들 때 함께 선언해 주어야 합니다.  \n",
    "\n",
    "__인스턴스 = 클래스(변수,변수2,...)__  \n",
    "위에 코드에서 새로운 인스턴스를 만들고 난 후 \"새로운 Car ㅣㅇㄴ스턴스가 생성되었습니다\" 가 출력되었습니다. 즉, 새로운 인스턴트가 만들어질때 __init__ 메소드가 호출되는것을 알 수 있습니다.    \n",
    "\n",
    "지금까지는 클래스를 구성하는 기본적인 부분들에 대하여 알아봤습니다."
   ]
  },
  {
   "cell_type": "markdown",
   "metadata": {},
   "source": [
    "## 5. 클래스 상속"
   ]
  },
  {
   "cell_type": "markdown",
   "metadata": {},
   "source": [
    "여기서 부턴 클래스의 상속에 대해 알아보겠습니다.\n",
    "\n",
    "__상속(Inherittance)__ 는 우리가 흔히 알고 있는 '유산을 상속하다' 의 상속이랑 비슷한 개념입니다.  \n",
    "\n",
    "파이썬 뿐만 아니라 많은 프로그래밍 언어에서 클래스는 상속이 가능합니다.  \n",
    "\n",
    "쉽게 말해 __부모클래스__ 가 존재하고 그 부모 클래스를 상속받는 __자식 클래스__ 를 만들 수 있습니다.  \n",
    "\n",
    "이때 자식 클래스는 부모 클래스가 가진 메소드나 변수를 물려받아 __자식 클래스에서 그대로 사용__ 이 가능합니다.  "
   ]
  },
  {
   "cell_type": "code",
   "execution_count": 107,
   "metadata": {},
   "outputs": [],
   "source": [
    "class Person :\n",
    "    def __init__ (self, name, age) :\n",
    "        self.name = name\n",
    "        self.age = age\n",
    "        \n",
    "    def info(self) :\n",
    "        print(\"이름 : %s, 나이 : %d\" %(self.name, self.age))"
   ]
  },
  {
   "cell_type": "code",
   "execution_count": 108,
   "metadata": {},
   "outputs": [
    {
     "name": "stdout",
     "output_type": "stream",
     "text": [
      "이름 : 한승우, 나이 : 30\n"
     ]
    }
   ],
   "source": [
    "class Employee(Person) :\n",
    "    pass\n",
    "\n",
    "em = Employee(\"한승우\", 30)\n",
    "em.info()"
   ]
  },
  {
   "cell_type": "markdown",
   "metadata": {},
   "source": [
    "위 예시를 보면 Person 클래스는 init 메소드를 통해 이름과 나이를 초기값으로 받고, info 메소드를 통해 이름과 나이를 출력하는 것을 볼 수 있습니다.  \n",
    "\n",
    "Employee 클래스를 보면\n",
    "\n",
    "class Employee(Person) :  \n",
    "과 같은 방법으로 Person클래스를 상속받습니다.  \n",
    "\n",
    "그렇기에 하위에 아무런 메소드가 없다고 해도 info 메소드를 호출하면 이름과 나이가 출력됩니다.  "
   ]
  },
  {
   "cell_type": "markdown",
   "metadata": {},
   "source": [
    "***"
   ]
  },
  {
   "cell_type": "markdown",
   "metadata": {},
   "source": [
    "단순히 상속받는것 뿐만 아니라 부모 클래스에 있는 메소드를 변형하여 사용하는 것 또한 가능합니다.  \n",
    "\n",
    "우리는 이것을 __메소드 오버라이딩(overriding)__ 이라고 합니다. "
   ]
  },
  {
   "cell_type": "code",
   "execution_count": 120,
   "metadata": {},
   "outputs": [],
   "source": [
    "class Parent :\n",
    "    def __init__(self, name, age) :\n",
    "        self.name = name\n",
    "        self.age = age\n",
    "        \n",
    "    def info(self) :\n",
    "        print(\"나는 부모이고, 이름 : %s, 나이 : %d\" %(self.name, self.age))\n",
    "        \n",
    "class Son(Parent) :\n",
    "    def info(self) :\n",
    "         print(\"나는 자식이고, 이름 : %s, 나이 : %d\" %(self.name, self.age))"
   ]
  },
  {
   "cell_type": "code",
   "execution_count": 121,
   "metadata": {},
   "outputs": [
    {
     "name": "stdout",
     "output_type": "stream",
     "text": [
      "나는 부모이고, 이름 : 한승우, 나이 : 100\n"
     ]
    }
   ],
   "source": [
    "par = Parent(\"한승우\",100)\n",
    "par.info()"
   ]
  },
  {
   "cell_type": "code",
   "execution_count": 122,
   "metadata": {},
   "outputs": [
    {
     "name": "stdout",
     "output_type": "stream",
     "text": [
      "나는 자식이고, 이름 : 한승우 주니어, 나이 : 30\n"
     ]
    }
   ],
   "source": [
    "son = Son(\"한승우 주니어\",30)\n",
    "son.info()"
   ]
  },
  {
   "cell_type": "markdown",
   "metadata": {},
   "source": [
    "Parent 와 Son 모두 info 라는 메소드를 가지고 있지만 Employee의 인스턴스에서 info 메소드를 호출하였을 떄는  \n",
    "__\"나는 부모\"__ 가 아닌  \n",
    "__\"나는 자식\"__ 가 출력되는것을 볼 수 있습니다.  \n",
    "\n",
    "이처럼 부모 클래스의 메소드와 같은 이름을 가진 메소드를 자식 클래스에서 새롭게 구현하는 것을 __메소드 오버라이딩__ 이라고 합니다."
   ]
  },
  {
   "cell_type": "markdown",
   "metadata": {},
   "source": [
    "***"
   ]
  },
  {
   "cell_type": "markdown",
   "metadata": {},
   "source": [
    "### 클래스 정리 끝"
   ]
  },
  {
   "cell_type": "code",
   "execution_count": null,
   "metadata": {},
   "outputs": [],
   "source": []
  }
 ],
 "metadata": {
  "kernelspec": {
   "display_name": "Python 3",
   "language": "python",
   "name": "python3"
  },
  "language_info": {
   "codemirror_mode": {
    "name": "ipython",
    "version": 3
   },
   "file_extension": ".py",
   "mimetype": "text/x-python",
   "name": "python",
   "nbconvert_exporter": "python",
   "pygments_lexer": "ipython3",
   "version": "3.7.4"
  }
 },
 "nbformat": 4,
 "nbformat_minor": 2
}
