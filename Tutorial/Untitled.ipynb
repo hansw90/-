{
 "cells": [
  {
   "cell_type": "markdown",
   "metadata": {},
   "source": [
    "# 1. 심층신경망의 구조\n",
    "\n",
    "신경망은 뉴런을 기본 단위로 하며, 이를 조합하여 복잡한 구조를 이룬다.   \n",
    "\n",
    "### 얕은 신경망 (Shallow Neural Network)\n",
    "가장 단순하고 얕은(은닉 계층이 1개인) 신경망 구조를 얕은 신경망이라고 한다.  \n",
    "\n",
    "### 심층 신경망 (Deep Neural Network, DNN)\n",
    "- 얕은 싱경망보다 은닉 계층이 많은 신경망을 DNN이라고 부른다.\n",
    "- 보통 5개 이상의 계층이 있는 경우 '깊다' (Deep하다) 라고 표현.  \n",
    "\n",
    "##### 심층 신경망은 무엇이 다른가?\n",
    "- 은닉 계층 추가 = 특징의 비선형 변환 추가\n",
    "- 학습 매개변수(파라미터)의 수가 계층 크기의 제곱에 비례\n",
    "- Sigmoid 활성 활성 함수 동작이 원할하지 않음 (gradient vanising)\n",
    "    - ReLU (Rectified Linear Unit)의 도입 필요\n",
    "    \n",
    "# 2. 역전파 학습법의 개념, Backpropagation\n",
    "\n",
    "### 알고리즘의 학습과 미분\n",
    "- 손실 함수를 최소화 하는 매개변수 찾기\n",
    "- 경사 하강법을 위해 미분 필요\n",
    "    - __손실함수를 모든 매개변수로 미분!__\n",
    "    - 즉 입력(input)의 Trainable Parameters 값들을 말한다.\n",
    "- 학습 환경이 주어졌을 때,  손실 함수를 매개 변수로 여러번 미분해야 한다.\n",
    "\n",
    "\n",
    "### 전결합 계층 Fully Connected Layer\n",
    "FC Layer 연산은 행렬곱 연산으로 표현할 수 있는 것을 remind 하자, FC Layer를 연쇄적으로 적용하면 심층 신경망의 수학적 표현이 된다. \n",
    "\n",
    "# 3. 역전파 학습의 필요성\n",
    "\n",
    "# 4. 역전파 알고리즘 정리\n",
    "- 학습 데이터로 정방향 연산을 하여 Loss를 구한다.\n",
    "- 정방향 연산시, 계층별로 BP에 필요한 중간 결과를 저장한다.\n",
    "- Loss를 각 파라미터로 미분한다. 연쇄 법칙(역방향 연산)을 이용한다.\n",
    "    - 마지막 계층부터 이전 계층으로 연쇄적으로 계산한다.\n",
    "    - 역방향 연산 시, 정방향 연산에서 저장한 중간 결과를 사용한다.\n",
    "- 미분의 연쇄 법칙과 각 함수의 수식적 미분을 이용하면, 단 한번의 손실함수 평가로 미분을 구할 수 있다. 단, 중간 결과를 저장해야 하므로 메모리가 추가로 필요하다. "
   ]
  },
  {
   "cell_type": "code",
   "execution_count": null,
   "metadata": {},
   "outputs": [],
   "source": []
  }
 ],
 "metadata": {
  "kernelspec": {
   "display_name": "Python 3",
   "language": "python",
   "name": "python3"
  },
  "language_info": {
   "codemirror_mode": {
    "name": "ipython",
    "version": 3
   },
   "file_extension": ".py",
   "mimetype": "text/x-python",
   "name": "python",
   "nbconvert_exporter": "python",
   "pygments_lexer": "ipython3",
   "version": "3.7.4"
  }
 },
 "nbformat": 4,
 "nbformat_minor": 2
}
