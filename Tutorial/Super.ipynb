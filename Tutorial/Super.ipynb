{
 "cells": [
  {
   "cell_type": "markdown",
   "metadata": {},
   "source": [
    "# 파이썬 super 기초 개념\n",
    "\n",
    "먼저 super를 배우기전 상속 ,오버라이딩의 개념이 잡혀있어야 한다.\n",
    "\n",
    "## super()\n",
    "자식 클레스에서 부모클래스의 내용을 사용하고 싶을 경우 사용\n"
   ]
  },
  {
   "cell_type": "code",
   "execution_count": 2,
   "metadata": {},
   "outputs": [
    {
     "name": "stdout",
     "output_type": "stream",
     "text": [
      "잘생겼다\n",
      "예쁘다\n"
     ]
    }
   ],
   "source": [
    "class father():  # 부모 클래스\n",
    "    def handsome(self):\n",
    "        print(\"잘생겼다\")\n",
    " \n",
    " \n",
    "class brother(father):  # 자식클래스(부모클래스) 아빠매소드를 상속받겠다\n",
    "    '''아들'''\n",
    " \n",
    " \n",
    "class sister(father):  # 자식클래스(부모클래스) 아빠매소드를 상속받겠다\n",
    "    def pretty(self):\n",
    "        print(\"예쁘다\")\n",
    " \n",
    "    def handsome(self):\n",
    "        '''물려받았어요'''\n",
    " \n",
    " \n",
    "brother = brother()\n",
    "brother.handsome()\n",
    " \n",
    "girl = sister()\n",
    "girl.handsome()\n",
    "girl.pretty()\n",
    "\n",
    "# 위 결과의 경우 girl.handsome() 의 결과가 오버라이딩에 의해 출력도지 않는다."
   ]
  },
  {
   "cell_type": "code",
   "execution_count": 3,
   "metadata": {},
   "outputs": [
    {
     "name": "stdout",
     "output_type": "stream",
     "text": [
      "잘생겼다\n",
      "잘생겼다\n",
      "예쁘다\n"
     ]
    }
   ],
   "source": [
    "class father():  # 부모 클래스\n",
    "    def handsome(self):\n",
    "        print(\"잘생겼다\")\n",
    " \n",
    " \n",
    "class brother(father):  # 자식클래스(부모클래스) 아빠매소드를 상속받겠다\n",
    "    '''아들'''\n",
    " \n",
    " \n",
    "class sister(father):  # 자식클래스(부모클래스) 아빠매소드를 상속받겠다\n",
    "    def pretty(self):\n",
    "        print(\"예쁘다\")\n",
    " \n",
    "    def handsome(self):\n",
    "       super().handsome()\n",
    " \n",
    " \n",
    "brother = brother()\n",
    "brother.handsome()\n",
    " \n",
    "girl = sister()\n",
    "girl.handsome()\n",
    "girl.pretty()\n",
    "\n"
   ]
  },
  {
   "cell_type": "code",
   "execution_count": 13,
   "metadata": {},
   "outputs": [
    {
     "name": "stdout",
     "output_type": "stream",
     "text": [
      "1\n",
      "3\n",
      "2\n",
      "아빠를 닮아 잘생겼다.\n",
      "얼굴 말이야\n"
     ]
    }
   ],
   "source": [
    "class father() :\n",
    "    print(1)\n",
    "    def __init__ (self,who) :\n",
    "        self.who = who\n",
    "        \n",
    "    def handsome(self) :\n",
    "        print(\"{}를 닮아 잘생겼다.\".format(self.who))\n",
    "\n",
    "class sister(father) : #자식클래스(부모클래스 ) 아빠매소드를 상속 받겠다\n",
    "    print(3)\n",
    "    def __init__(self, who, where) :\n",
    "        print(2)\n",
    "        super().__init__(who)\n",
    "        self.where = where\n",
    "        \n",
    "    def choice(self) :\n",
    "        print(\"{} 말이야\".format(self.where))\n",
    "        \n",
    "    def handsome(self) :\n",
    "        super().handsome()\n",
    "        self.choice()\n",
    "\n",
    "    # who 와 handsome ()은 부모에게 물려받은 것이기 때문에 자식에서 사용하려면 무조건 super()를 사용한다.\n",
    "girl = sister(\"아빠\",\"얼굴\")\n",
    "girl.handsome()"
   ]
  },
  {
   "cell_type": "code",
   "execution_count": null,
   "metadata": {},
   "outputs": [],
   "source": []
  }
 ],
 "metadata": {
  "kernelspec": {
   "display_name": "Python 3",
   "language": "python",
   "name": "python3"
  },
  "language_info": {
   "codemirror_mode": {
    "name": "ipython",
    "version": 3
   },
   "file_extension": ".py",
   "mimetype": "text/x-python",
   "name": "python",
   "nbconvert_exporter": "python",
   "pygments_lexer": "ipython3",
   "version": "3.5.5"
  }
 },
 "nbformat": 4,
 "nbformat_minor": 2
}
