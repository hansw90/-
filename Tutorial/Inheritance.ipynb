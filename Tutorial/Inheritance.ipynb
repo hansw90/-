{
 "cells": [
  {
   "cell_type": "markdown",
   "metadata": {},
   "source": [
    "# 파이썬 클래스의 상속 기초 개념잡기\n",
    "\n",
    "## 개념\n",
    "\n",
    "상속(inheritance)\n",
    "\n",
    "- 클래스를 부모와 자식으로 나눈 후 부모클래스의 내용을 자식이 가져다 쓸 수 있는 것을 말합니다.\n",
    "- 상속을 해주는 클래스가 부모\n",
    "- 상속을 받는 클래스가 자식\n"
   ]
  },
  {
   "cell_type": "code",
   "execution_count": 2,
   "metadata": {},
   "outputs": [
    {
     "name": "stdout",
     "output_type": "stream",
     "text": [
      "아빠\n",
      "엄마\n",
      "아들\n",
      "잘생겼다\n",
      "이쁘다\n",
      "뚱뚱하다\n"
     ]
    }
   ],
   "source": [
    "class Family():\n",
    "    def father(self):\n",
    "        print(\"아빠\")\n",
    " \n",
    "    def mother(self):\n",
    "        print(\"엄마\")\n",
    " \n",
    "    def son(self):\n",
    "        print(\"아들\")\n",
    " \n",
    "class Face():\n",
    "    def handsome(self):\n",
    "        print(\"잘생겼다\")\n",
    " \n",
    "    def pretty(self):\n",
    "        print(\"이쁘다\")\n",
    " \n",
    "    def fat(self):\n",
    "        print(\"뚱뚱하다\")\n",
    " \n",
    "we = Family() #Family클래스를 we에 인스턴스 생성\n",
    "we.father()\n",
    "we.mother()\n",
    "we.son()\n",
    " \n",
    "depiction = Face() #Face클래스를 depiction에 인스턴스 생성\n",
    "depiction.handsome()\n",
    "depiction.pretty()\n",
    "depiction.fat()\n"
   ]
  },
  {
   "cell_type": "code",
   "execution_count": 3,
   "metadata": {},
   "outputs": [
    {
     "name": "stdout",
     "output_type": "stream",
     "text": [
      "아빠\n",
      "엄마\n",
      "아들\n",
      "잘생겼다\n",
      "이쁘다\n",
      "뚱뚱하다\n"
     ]
    }
   ],
   "source": [
    "class introduce(): #부모 클래스\n",
    "    def father(self):\n",
    "        print(\"아빠\")\n",
    " \n",
    "    def handsome(self):\n",
    "        print(\"잘생겼다\")\n",
    " \n",
    "class Family(introduce): #자식클래스(부모클래스) 부모매소드를 상속받겠다\n",
    "    def mother(self):\n",
    "        print(\"엄마\")\n",
    " \n",
    "    def son(self):\n",
    "        print(\"아들\")\n",
    " \n",
    "class Face(introduce): #자식클래스(부모클래스) 부모매소드를 상속받겠다\n",
    "    def pretty(self):\n",
    "        print(\"이쁘다\")\n",
    " \n",
    "    def fat(self):\n",
    "        print(\"뚱뚱하다\")\n",
    " \n",
    "we = Family() #Family클래스를 we에 인스턴스 생성\n",
    "we.father()\n",
    "we.mother()\n",
    "we.son()\n",
    " \n",
    "depiction = Face() #Face클래스를 depiction에 인스턴스 생성\n",
    "depiction.handsome()\n",
    "depiction.pretty()\n",
    "depiction.fat()\n",
    "\n"
   ]
  },
  {
   "cell_type": "code",
   "execution_count": null,
   "metadata": {},
   "outputs": [],
   "source": []
  }
 ],
 "metadata": {
  "kernelspec": {
   "display_name": "Python 3",
   "language": "python",
   "name": "python3"
  },
  "language_info": {
   "codemirror_mode": {
    "name": "ipython",
    "version": 3
   },
   "file_extension": ".py",
   "mimetype": "text/x-python",
   "name": "python",
   "nbconvert_exporter": "python",
   "pygments_lexer": "ipython3",
   "version": "3.5.5"
  }
 },
 "nbformat": 4,
 "nbformat_minor": 2
}
