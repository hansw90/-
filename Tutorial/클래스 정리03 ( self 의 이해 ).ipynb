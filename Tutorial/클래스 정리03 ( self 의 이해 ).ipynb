{
 "cells": [
  {
   "cell_type": "markdown",
   "metadata": {},
   "source": [
    "# self 키워드 이해 및 사용 "
   ]
  },
  {
   "cell_type": "markdown",
   "metadata": {},
   "source": [
    "__self__\n",
    "\n",
    "- 파이썬 method는 항상 첫번째 인자로 self 전달\n",
    "- self는 현재 메쏘드가 호출되는 객체 자신을 가리킴\n",
    "- C++/C# Java __this__ 에 해당\n",
    "- 역시, 이름이 self 일 필요는 없으나, 위치는 항상 맨 처음의 parameter 이며 관례적으로 self로 이용 "
   ]
  },
  {
   "cell_type": "code",
   "execution_count": 6,
   "metadata": {},
   "outputs": [
    {
     "name": "stdout",
     "output_type": "stream",
     "text": [
      "self <__main__.Person object at 0x00000209E888B848>\n",
      "self <__main__.Person object at 0x00000209E888B708>\n",
      "<__main__.Person object at 0x00000209E888B848>\n",
      "<__main__.Person object at 0x00000209E888B708>\n",
      "Aron 은 참을 잔다\n",
      "Bob 은 참을 잔다\n"
     ]
    }
   ],
   "source": [
    " class Person :\n",
    "        def __init__(self, name, age) :\n",
    "            \n",
    "            print('self', self)\n",
    "            self.name = name\n",
    "            self.age = age\n",
    "        \n",
    "        def sleep(self) :\n",
    "            print(self.name, '은 참을 잔다' )\n",
    "        \n",
    "        \n",
    "a = Person('Aron',15)\n",
    "b = Person('Bob', 25)\n",
    "\n",
    "# 출력되는 주소들을 봤을때 self 는 그 클래스 자체라고 생각해도 된다. \n",
    "print(a)\n",
    "print(b)\n",
    "\n",
    "# 따로 파라미터를 보내지 않더라도 \n",
    "# a.sleep(a) 와같은 효과를 낸다.\n",
    "# 중요한것은 파이썬 모든 메서드에 가장 처음 온다는 것.!!\n",
    "\n",
    "a.sleep()\n",
    "b.sleep()"
   ]
  },
  {
   "cell_type": "code",
   "execution_count": null,
   "metadata": {},
   "outputs": [],
   "source": []
  }
 ],
 "metadata": {
  "kernelspec": {
   "display_name": "Python 3",
   "language": "python",
   "name": "python3"
  },
  "language_info": {
   "codemirror_mode": {
    "name": "ipython",
    "version": 3
   },
   "file_extension": ".py",
   "mimetype": "text/x-python",
   "name": "python",
   "nbconvert_exporter": "python",
   "pygments_lexer": "ipython3",
   "version": "3.7.4"
  }
 },
 "nbformat": 4,
 "nbformat_minor": 2
}
