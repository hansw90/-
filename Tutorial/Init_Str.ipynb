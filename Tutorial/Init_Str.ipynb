{
 "cells": [
  {
   "cell_type": "markdown",
   "metadata": {},
   "source": [
    "# 파이썬 특수한 메소드 init, str 사용해보기\n",
    "\n",
    "## init\n",
    "- 인스턴스를 생성하면 자동으로 생성되는 함수\n",
    "\n",
    "## str\n",
    "- 인스턴스자체를 출력할 때 형식을 지정하는 함수"
   ]
  },
  {
   "cell_type": "code",
   "execution_count": 1,
   "metadata": {},
   "outputs": [
    {
     "name": "stdout",
     "output_type": "stream",
     "text": [
      "<__main__.charic object at 0x000001127BC7CE10>\n",
      "hsw\n",
      "1\n"
     ]
    }
   ],
   "source": [
    "# init\n",
    "\n",
    "##클래스 생성 ##\n",
    "class charic() :\n",
    "    def __init__(self,name,level) :\n",
    "        self.name = name\n",
    "        self.level = level\n",
    "        print(self)\n",
    "create = charic(\"hsw\",1)\n",
    "\n",
    "print(create.name)\n",
    "print(create.level)"
   ]
  },
  {
   "cell_type": "code",
   "execution_count": 4,
   "metadata": {},
   "outputs": [
    {
     "name": "stdout",
     "output_type": "stream",
     "text": [
      "닉네임:rednoby, 레벨:1\n",
      "rednoby\n",
      "1\n"
     ]
    }
   ],
   "source": [
    "# str\n",
    "## 인스턴스가 문자열로 어떻게 표현될지 결정을 해주는 역할을 한다.\n",
    "\n",
    "# 클래스 생성 #\n",
    "\n",
    "class charic() :\n",
    "    def __init__(self, name, level) :\n",
    "        self.name = name\n",
    "        self.level = level\n",
    "        \n",
    "## 여기까지 동일 ##\n",
    "\n",
    "    def __str__(self) :\n",
    "        '''문자열화 해주는 함수'''\n",
    "        return \"닉네임:{}, 레벨:{}\".format(self.name, self.level)\n",
    "    \n",
    "# 클래스 생성 끝\"\n",
    "\n",
    "create = charic(\"rednoby\",1) # 그대로 값을 집어넣는다\n",
    "print(create)\n",
    "print(create.name)\n",
    "print(create.level)"
   ]
  },
  {
   "cell_type": "code",
   "execution_count": null,
   "metadata": {},
   "outputs": [],
   "source": []
  }
 ],
 "metadata": {
  "kernelspec": {
   "display_name": "Python 3",
   "language": "python",
   "name": "python3"
  },
  "language_info": {
   "codemirror_mode": {
    "name": "ipython",
    "version": 3
   },
   "file_extension": ".py",
   "mimetype": "text/x-python",
   "name": "python",
   "nbconvert_exporter": "python",
   "pygments_lexer": "ipython3",
   "version": "3.5.5"
  }
 },
 "nbformat": 4,
 "nbformat_minor": 2
}
