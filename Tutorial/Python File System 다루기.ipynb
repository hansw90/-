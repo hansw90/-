{
 "cells": [
  {
   "cell_type": "markdown",
   "metadata": {},
   "source": [
    "# File System 다루기\n",
    "\n",
    "생각보다 초보자 분들(나 포함...) 프로젝트를 하다보면 막히는 부분이 File을 다루는 부분일 것이다.   \n",
    "사실 이부분이 막히면 굉장히 오랜시간을 잡아먹고 귀찮은 파트이기도 하다.\n",
    "\n",
    "알고보면 굉장히 간단하고 우리가 많이 쓰는 함수는 그렇게 많지 않다, (사실 실무에선 정확히 모름,,)  \n",
    "\n",
    "이 시간 python에서 많이 사용하는 File system Module들을 알아보고 실습해보도록 하자. \n",
    "\n",
    "우리가 많이 사용하는 모듈들은 아래와 같다. \n",
    "\n",
    "- os\n",
    "- glob\n",
    "- shutil"
   ]
  },
  {
   "cell_type": "code",
   "execution_count": 3,
   "metadata": {},
   "outputs": [],
   "source": [
    "# 모듈 호출\n",
    "import os\n",
    "from glob import glob\n",
    "import shutil"
   ]
  },
  {
   "cell_type": "markdown",
   "metadata": {},
   "source": [
    "### os"
   ]
  },
  {
   "cell_type": "code",
   "execution_count": 31,
   "metadata": {},
   "outputs": [
    {
     "data": {
      "text/plain": [
       "'C:\\\\ProgramData\\\\Anaconda3;C:\\\\ProgramData\\\\Anaconda3\\\\Library\\\\mingw-w64\\\\bin;C:\\\\ProgramData\\\\Anaconda3\\\\Library\\\\usr\\\\bin;C:\\\\ProgramData\\\\Anaconda3\\\\Library\\\\bin;C:\\\\ProgramData\\\\Anaconda3\\\\Scripts;C:\\\\WINDOWS\\\\system32;C:\\\\WINDOWS;C:\\\\WINDOWS\\\\System32\\\\Wbem;C:\\\\WINDOWS\\\\System32\\\\WindowsPowerShell\\\\v1.0\\\\;C:\\\\WINDOWS\\\\System32\\\\OpenSSH\\\\;C:\\\\Users\\\\ashgh\\\\AppData\\\\Local\\\\Programs\\\\Python\\\\Python37\\\\Scripts\\\\;C:\\\\Users\\\\ashgh\\\\AppData\\\\Local\\\\Programs\\\\Python\\\\Python37\\\\;C:\\\\Users\\\\ashgh\\\\AppData\\\\Local\\\\Microsoft\\\\WindowsApps;'"
      ]
     },
     "execution_count": 31,
     "metadata": {},
     "output_type": "execute_result"
    }
   ],
   "source": [
    "# 내 시스템의 환경 변수값을 알고 싶을때, \n",
    "os.environ \n",
    "# 이건 전체 환경변수\n",
    "# 출력값이 dic값으로 아래와같이 부분부분 추출이 가능하다,\n",
    "os.environ['PATH']"
   ]
  },
  {
   "cell_type": "code",
   "execution_count": 134,
   "metadata": {},
   "outputs": [],
   "source": [
    "fout = open('example.txt', 'wt')\n",
    "fout.close()"
   ]
  },
  {
   "cell_type": "code",
   "execution_count": 5,
   "metadata": {
    "scrolled": true
   },
   "outputs": [
    {
     "data": {
      "text/plain": [
       "['.ipynb_checkpoints',\n",
       " 'example.txt',\n",
       " 'Python File System 다루기.ipynb',\n",
       " 'Untitled1.ipynb',\n",
       " 'Untitled2.ipynb']"
      ]
     },
     "execution_count": 5,
     "metadata": {},
     "output_type": "execute_result"
    }
   ],
   "source": [
    "# 현 폴더 안에 어떠한 파일들이 있는지 확인\n",
    "os.listdir()"
   ]
  },
  {
   "cell_type": "code",
   "execution_count": 22,
   "metadata": {},
   "outputs": [
    {
     "data": {
      "text/plain": [
       "['Python File System 다루기-checkpoint.ipynb',\n",
       " 'Untitled1-checkpoint.ipynb',\n",
       " 'Untitled2-checkpoint.ipynb']"
      ]
     },
     "execution_count": 22,
     "metadata": {},
     "output_type": "execute_result"
    }
   ],
   "source": [
    "# 폴더 확인\n",
    "os.listdir('.ipynb_checkpoints')"
   ]
  },
  {
   "cell_type": "code",
   "execution_count": 69,
   "metadata": {},
   "outputs": [
    {
     "data": {
      "text/plain": [
       "'C:\\\\WINDOWS'"
      ]
     },
     "execution_count": 69,
     "metadata": {},
     "output_type": "execute_result"
    }
   ],
   "source": [
    "# 디렉터리 위치 변경\n",
    "os.chdir('C:\\WINDOWS')\n",
    "\n",
    "# 현재 자신의 디렉터리 출력\n",
    "os.getcwd()"
   ]
  },
  {
   "cell_type": "code",
   "execution_count": 70,
   "metadata": {},
   "outputs": [],
   "source": [
    "# 다시 돌아오자\n",
    "os.chdir('../Users/ashgh/OneDrive/문서/workplace')"
   ]
  },
  {
   "cell_type": "code",
   "execution_count": 71,
   "metadata": {},
   "outputs": [
    {
     "data": {
      "text/plain": [
       "['.ipynb_checkpoints',\n",
       " 'example.txt',\n",
       " 'Python File System 다루기.ipynb',\n",
       " 'Untitled1.ipynb',\n",
       " 'Untitled2.ipynb']"
      ]
     },
     "execution_count": 71,
     "metadata": {},
     "output_type": "execute_result"
    }
   ],
   "source": [
    "os.listdir()"
   ]
  },
  {
   "cell_type": "code",
   "execution_count": 14,
   "metadata": {},
   "outputs": [
    {
     "name": "stdout",
     "output_type": "stream",
     "text": [
      "True\n",
      "True\n",
      "False\n",
      "True\n",
      "True\n"
     ]
    }
   ],
   "source": [
    "# 존재 여부 확인\n",
    "print(os.path.exists('example.txt')) # True\n",
    "print(os.path.exists('./example.txt')) # True\n",
    "print(os.path.exists('example2.txt')) # False\n",
    "print(os.path.exists('.')) # True\n",
    "print(os.path.exists('..')) # True"
   ]
  },
  {
   "cell_type": "code",
   "execution_count": 21,
   "metadata": {},
   "outputs": [
    {
     "name": "stdout",
     "output_type": "stream",
     "text": [
      "True\n",
      "False\n",
      "False\n",
      "False\n",
      "True\n"
     ]
    }
   ],
   "source": [
    "# 타입 확인\n",
    "name = 'example.txt'\n",
    "print(os.path.isfile(name))\n",
    "print(os.path.isdir(name))\n",
    "print(os.path.isdir(','))\n",
    "\n",
    "\n",
    "# 절도 경로인지 확인\n",
    "print(os.path.isabs('name'))\n",
    "print(os.path.isabs('/big/fake/name'))"
   ]
  },
  {
   "cell_type": "code",
   "execution_count": 74,
   "metadata": {},
   "outputs": [
    {
     "data": {
      "text/plain": [
       "(list, 5)"
      ]
     },
     "execution_count": 74,
     "metadata": {},
     "output_type": "execute_result"
    }
   ],
   "source": [
    "filelists = os.listdir()\n",
    "type(filelists), len(filelists)"
   ]
  },
  {
   "cell_type": "code",
   "execution_count": 82,
   "metadata": {},
   "outputs": [
    {
     "data": {
      "text/plain": [
       "['.ipynb_checkpoints',\n",
       " 'example.txt',\n",
       " 'Python File System 다루기.ipynb',\n",
       " 'temp',\n",
       " 'Untitled1.ipynb',\n",
       " 'Untitled2.ipynb']"
      ]
     },
     "execution_count": 82,
     "metadata": {},
     "output_type": "execute_result"
    }
   ],
   "source": [
    "# 디렉터리 생성\n",
    "os.mkdir('temp')\n",
    "os.listdir()"
   ]
  },
  {
   "cell_type": "code",
   "execution_count": 83,
   "metadata": {},
   "outputs": [],
   "source": [
    "# 디렉터리 삭제, 단 디렉터리가 비어있어야 한다.\n",
    "os.rmdir('temp')"
   ]
  },
  {
   "cell_type": "code",
   "execution_count": 87,
   "metadata": {},
   "outputs": [
    {
     "data": {
      "text/plain": [
       "['.ipynb_checkpoints',\n",
       " 'Python File System 다루기.ipynb',\n",
       " 'Untitled1.ipynb',\n",
       " 'Untitled2.ipynb']"
      ]
     },
     "execution_count": 87,
     "metadata": {},
     "output_type": "execute_result"
    }
   ],
   "source": [
    "# 파일 삭제\n",
    "os.unlink('example.txt')\n",
    "os.listdir()"
   ]
  },
  {
   "cell_type": "markdown",
   "metadata": {},
   "source": [
    "### glob\n",
    "\n",
    "각기 다른 기능들 이지만 사실 난 이 glob가 가장 편리한 기능 같다.  \n",
    "가끔 파일을 읽고 쓰는 기능이 있는 프로그램을 만들다 보면 특정 디렉터리에 있는 파일 이름을 모두 알아야 할때가 있다. 이럴때 유용하게 쓰인다. \n",
    "아래에선 실제 데이터를 통해 glob 사용법을 익혀보자.  \n",
    "\n",
    "아래는 mnist datasets 파일을 매우 조금씩 가져온 예시이다."
   ]
  },
  {
   "cell_type": "code",
   "execution_count": 88,
   "metadata": {},
   "outputs": [
    {
     "data": {
      "text/plain": [
       "['testing', 'training']"
      ]
     },
     "execution_count": 88,
     "metadata": {},
     "output_type": "execute_result"
    }
   ],
   "source": [
    "os.listdir('mnist_png')"
   ]
  },
  {
   "cell_type": "code",
   "execution_count": 90,
   "metadata": {},
   "outputs": [
    {
     "data": {
      "text/plain": [
       "['mnist_png/training\\\\0\\\\10.png',\n",
       " 'mnist_png/training\\\\0\\\\13.png',\n",
       " 'mnist_png/training\\\\0\\\\25.png',\n",
       " 'mnist_png/training\\\\0\\\\28.png',\n",
       " 'mnist_png/training\\\\0\\\\3.png',\n",
       " 'mnist_png/training\\\\0\\\\55.png',\n",
       " 'mnist_png/training\\\\0\\\\69.png',\n",
       " 'mnist_png/training\\\\0\\\\71.png',\n",
       " 'mnist_png/training\\\\1\\\\14.png',\n",
       " 'mnist_png/training\\\\1\\\\2.png',\n",
       " 'mnist_png/training\\\\1\\\\29.png',\n",
       " 'mnist_png/training\\\\1\\\\31.png',\n",
       " 'mnist_png/training\\\\1\\\\37.png',\n",
       " 'mnist_png/training\\\\1\\\\39.png',\n",
       " 'mnist_png/training\\\\1\\\\40.png',\n",
       " 'mnist_png/training\\\\1\\\\5.png']"
      ]
     },
     "execution_count": 90,
     "metadata": {},
     "output_type": "execute_result"
    }
   ],
   "source": [
    "# glob 의 최고 장점은 아래같이 * 로 모든걸 해결이 가능하다.\n",
    "\n",
    "data_paths = glob('mnist_png/training/*/*.png')\n",
    "data_paths"
   ]
  },
  {
   "cell_type": "code",
   "execution_count": 93,
   "metadata": {},
   "outputs": [
    {
     "data": {
      "text/plain": [
       "'0'"
      ]
     },
     "execution_count": 93,
     "metadata": {},
     "output_type": "execute_result"
    }
   ],
   "source": [
    "# 라벨구하기\n",
    "# mnist에서 라벨은 폴더명 0,1,2,3,4,5,6,7,8,9 등이다. 이곳 예에선 0,1 만있다.\n",
    "path = data_paths[0]\n",
    "path.split('\\\\')[-2]"
   ]
  },
  {
   "cell_type": "code",
   "execution_count": 94,
   "metadata": {},
   "outputs": [],
   "source": [
    "# tip 우리가 쓰는 datasets 에서는 위와 같이 split을 하면 에러가 발생한다. 그렇기 때문에\n",
    "# 아래와 같이 tf.string 을 이용하여 자르도록 한다.\n",
    "\n",
    "# class_name = tf.strings.split(path,'\\\\')[-2]\n",
    "# class_name"
   ]
  },
  {
   "cell_type": "markdown",
   "metadata": {},
   "source": [
    "### shutil \n",
    "셸 유틸리티은 파일을 복사, 이동해 주는 파이썬 모듈이다. "
   ]
  },
  {
   "cell_type": "code",
   "execution_count": 98,
   "metadata": {},
   "outputs": [],
   "source": [
    "# 위의 data_paths 정보를 담은 txt 를 생성\n",
    "with open('example.txt', 'wt') as txt :\n",
    "    txt.write('\\n'.join(data_paths))"
   ]
  },
  {
   "cell_type": "code",
   "execution_count": 127,
   "metadata": {},
   "outputs": [
    {
     "data": {
      "text/plain": [
       "'temp.txt'"
      ]
     },
     "execution_count": 127,
     "metadata": {},
     "output_type": "execute_result"
    }
   ],
   "source": [
    "shutil.copy('example.txt', 'temp.txt')"
   ]
  },
  {
   "cell_type": "code",
   "execution_count": 115,
   "metadata": {},
   "outputs": [
    {
     "data": {
      "text/plain": [
       "['.ipynb_checkpoints',\n",
       " 'example.txt',\n",
       " 'mnist_png',\n",
       " 'Python File System 다루기.ipynb',\n",
       " 'temp.txt',\n",
       " 'Untitled1.ipynb',\n",
       " 'Untitled2.ipynb']"
      ]
     },
     "execution_count": 115,
     "metadata": {},
     "output_type": "execute_result"
    }
   ],
   "source": [
    "os.listdir()"
   ]
  },
  {
   "cell_type": "code",
   "execution_count": 130,
   "metadata": {},
   "outputs": [
    {
     "name": "stdout",
     "output_type": "stream",
     "text": [
      "mnist_png/training\\0\\10.png\n",
      "\n",
      "mnist_png/training\\0\\13.png\n",
      "\n",
      "mnist_png/training\\0\\25.png\n",
      "\n",
      "mnist_png/training\\0\\28.png\n",
      "\n",
      "mnist_png/training\\0\\3.png\n",
      "\n",
      "mnist_png/training\\0\\55.png\n",
      "\n",
      "mnist_png/training\\0\\69.png\n",
      "\n",
      "mnist_png/training\\0\\71.png\n",
      "\n",
      "mnist_png/training\\1\\14.png\n",
      "\n",
      "mnist_png/training\\1\\2.png\n",
      "\n",
      "mnist_png/training\\1\\29.png\n",
      "\n",
      "mnist_png/training\\1\\31.png\n",
      "\n",
      "mnist_png/training\\1\\37.png\n",
      "\n",
      "mnist_png/training\\1\\39.png\n",
      "\n",
      "mnist_png/training\\1\\40.png\n",
      "\n",
      "mnist_png/training\\1\\5.png\n"
     ]
    }
   ],
   "source": [
    "f = open(\"temp.txt\", 'r')\n",
    "while True:\n",
    "    line = f.readline()\n",
    "    if not line: break\n",
    "    print(line)\n",
    "f.close()"
   ]
  },
  {
   "cell_type": "markdown",
   "metadata": {},
   "source": [
    "잘 복사가 된걸 확인할 수 있다"
   ]
  },
  {
   "cell_type": "markdown",
   "metadata": {},
   "source": [
    "__shutil 디렉터리 복사하기__\n",
    "\n",
    "파일 하나가 아닌 전체 디렉터리(폴더)를 복사하는 방법을 살펴보자.  \n",
    "여기선 아까 썼던 small mnist 파일들을 사용해볼 예정이다. "
   ]
  },
  {
   "cell_type": "code",
   "execution_count": 131,
   "metadata": {},
   "outputs": [
    {
     "data": {
      "text/plain": [
       "'mnist_png-Copy'"
      ]
     },
     "execution_count": 131,
     "metadata": {},
     "output_type": "execute_result"
    }
   ],
   "source": [
    "shutil.copytree('mnist_png', 'mnist_png-Copy')"
   ]
  },
  {
   "cell_type": "markdown",
   "metadata": {},
   "source": [
    "이제 mnist_png의 모든 내용과 구조를 똑같이 가진 mnist_png-Copy 디렉터리가 새로 생긴것을 확인할 수 있다."
   ]
  },
  {
   "cell_type": "markdown",
   "metadata": {},
   "source": [
    "__shutil 파일 이동__\n",
    "\n",
    "파일 이동은 파일을 단순 복사하는것이 아니라 대상을 잘라 붙여넣는 작업을 수행하는 것 이다. 여기서는 move() 함수를 이용해 간단히 수행할 수 있다."
   ]
  },
  {
   "cell_type": "code",
   "execution_count": 135,
   "metadata": {},
   "outputs": [
    {
     "data": {
      "text/plain": [
       "'Temp\\\\example.txt'"
      ]
     },
     "execution_count": 135,
     "metadata": {},
     "output_type": "execute_result"
    }
   ],
   "source": [
    "shutil.move('example.txt','Temp')"
   ]
  },
  {
   "cell_type": "markdown",
   "metadata": {},
   "source": [
    "위의 코드를 통해 example.txt 가 Temp 디렉터리로 옮겨 지게 된다."
   ]
  },
  {
   "cell_type": "code",
   "execution_count": 136,
   "metadata": {},
   "outputs": [
    {
     "data": {
      "text/plain": [
       "['example.txt']"
      ]
     },
     "execution_count": 136,
     "metadata": {},
     "output_type": "execute_result"
    }
   ],
   "source": [
    "os.listdir('Temp')"
   ]
  },
  {
   "cell_type": "code",
   "execution_count": null,
   "metadata": {},
   "outputs": [],
   "source": []
  }
 ],
 "metadata": {
  "kernelspec": {
   "display_name": "Python 3",
   "language": "python",
   "name": "python3"
  },
  "language_info": {
   "codemirror_mode": {
    "name": "ipython",
    "version": 3
   },
   "file_extension": ".py",
   "mimetype": "text/x-python",
   "name": "python",
   "nbconvert_exporter": "python",
   "pygments_lexer": "ipython3",
   "version": "3.7.6"
  }
 },
 "nbformat": 4,
 "nbformat_minor": 4
}
