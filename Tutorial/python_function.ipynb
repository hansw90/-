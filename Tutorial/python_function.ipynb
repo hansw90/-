{
 "cells": [
  {
   "cell_type": "markdown",
   "metadata": {},
   "source": [
    "# 기초 함수\n",
    "\n",
    "함수(function)\n",
    "- 코드중복을 제거하기 위한 목적으로 사용\n",
    "- 빌트인함수 (Builtin Function) : print , range 등\n",
    "- 반환값이 없는 함수는 None 값을 리턴(반환)함\n",
    "\n",
    "함수의 구성\n",
    "- 1개의 함수명(필수) : 이름\n",
    "- 0개 이상 인자값(옵션) : 필요한 정보\n",
    "- 1개의 반환값(옵션) : 결과를 돌려받음\n",
    "\n"
   ]
  },
  {
   "cell_type": "code",
   "execution_count": 15,
   "metadata": {},
   "outputs": [],
   "source": [
    "def exam(num) : # 함수명 exam , num 받을 인자(Parameter)\n",
    "    #인자를 반환하기 위한\n",
    "    result1 = num * 2\n",
    "    result2 = result1 + 2\n",
    "    result3 = result2 - 10\n",
    "    \n",
    "    return result3 #반환값"
   ]
  },
  {
   "cell_type": "code",
   "execution_count": 16,
   "metadata": {},
   "outputs": [
    {
     "data": {
      "text/plain": [
       "12"
      ]
     },
     "execution_count": 16,
     "metadata": {},
     "output_type": "execute_result"
    }
   ],
   "source": [
    "exam(10)"
   ]
  },
  {
   "cell_type": "code",
   "execution_count": 17,
   "metadata": {},
   "outputs": [
    {
     "data": {
      "text/plain": [
       "192"
      ]
     },
     "execution_count": 17,
     "metadata": {},
     "output_type": "execute_result"
    }
   ],
   "source": [
    "exam(100)"
   ]
  },
  {
   "cell_type": "code",
   "execution_count": 18,
   "metadata": {},
   "outputs": [],
   "source": [
    "## 인자값, 반환값 X 함수\n",
    "def fn1() :\n",
    "    result = 1+2"
   ]
  },
  {
   "cell_type": "code",
   "execution_count": 19,
   "metadata": {},
   "outputs": [
    {
     "name": "stdout",
     "output_type": "stream",
     "text": [
      "None\n"
     ]
    }
   ],
   "source": [
    "print(fn1())"
   ]
  },
  {
   "cell_type": "code",
   "execution_count": 20,
   "metadata": {},
   "outputs": [],
   "source": [
    "## 인자값O , 반환값 X 함수\n",
    "def fn2(a, b, c) :\n",
    "    result = a + b + c"
   ]
  },
  {
   "cell_type": "code",
   "execution_count": 21,
   "metadata": {},
   "outputs": [
    {
     "name": "stdout",
     "output_type": "stream",
     "text": [
      "None\n"
     ]
    }
   ],
   "source": [
    "print(fn2(1,2,3,))"
   ]
  },
  {
   "cell_type": "code",
   "execution_count": 22,
   "metadata": {},
   "outputs": [],
   "source": [
    "##인자값X, 반환값O 함수\n",
    "# 인자값이 없으면 함수에서 받을수 없기때문에 에러가 난다.\n",
    "def fn3() :\n",
    "    return 10"
   ]
  },
  {
   "cell_type": "code",
   "execution_count": 23,
   "metadata": {},
   "outputs": [
    {
     "name": "stdout",
     "output_type": "stream",
     "text": [
      "10\n"
     ]
    }
   ],
   "source": [
    "print(fn3())"
   ]
  },
  {
   "cell_type": "code",
   "execution_count": 24,
   "metadata": {},
   "outputs": [],
   "source": [
    "## 인자값O, 반환값O 함수\n",
    "def fn4(a, b, c) :\n",
    "    result = a + b + c\n",
    "    return result"
   ]
  },
  {
   "cell_type": "code",
   "execution_count": 25,
   "metadata": {},
   "outputs": [
    {
     "name": "stdout",
     "output_type": "stream",
     "text": [
      "6\n"
     ]
    }
   ],
   "source": [
    "print(fn4(1, 2, 3))"
   ]
  },
  {
   "cell_type": "markdown",
   "metadata": {},
   "source": [
    "# Scope (변수의 유효범위)\n",
    "\n",
    "- 변수가 선언되어 해당 변수가 영향을 미치는 영영\n",
    "\n",
    "## 지역변수(Local Variable)\n",
    "    - 함수 안에서 선언되어 함수 내에서만 사용가능한 변수\n",
    "## 전역변수(Global Variable)\n",
    "    - 함수 밖에서 선언되어 함수 안에서도 모두 사용 가능한 변수\n",
    "    - 코드의 가독성을 저하시키므로 되도록 사용 금지\n",
    "    - 주로 삼수(Constant) 목적으로 많이 사용되며, 파이썬에서는 상수문법이 없다\n",
    "        - 상수명을 대문자로 사용\n",
    "        - 상수란 변하지 않는값을 의미\n",
    "    - 변수의 값이 변경되는 경우, 그 유효범위를 최소화하여 지역변수를 사용하는것이 버그 발생률을 저하시킬 수 있음\n",
    "\n",
    "## Argument(인자)\n",
    "    - 함수가 실행되는데 필요한 0개 이상의 변수 목록\n",
    "    \n",
    "## Positional Arguments\n",
    "    - 인자가 위치에 기반한 인자 \n",
    "    \n",
    "## Keyword Arguments\n",
    "    - 인자의 이름에 기반한 인자\n",
    "    - default 인자 문법이 함께 적용 : 함수 호출시 해당 인자를 지정하지 않으면 default 인자 값으로 값이 자동 지정\n",
    "    - 그렇기때문에 Positional Arguments와는 다르게 인자값이 지정되지 않아도 미리 지정해둔 default값으로 출력이 되어 에러가 나지 않습니다.\n",
    "\n",
    "## Packing\n",
    "    - 인자의 갯수를 제한하지 않고, 다수의 인자를 받을 수 있음\n",
    "    - 다수의 Positional Arguments 를 하나의 tuple 로 받을 수 있다.  이것을 Packing이라 한다\n",
    "    - *을 ㅆ서 여러개의 값을 하나의 변수에 넣는 packing을 사용할 수 있음\n",
    "\n",
    "\n",
    "## Unpacking\n",
    "    - 인자를 넘길때 Sequence Data Type(리스트/튜플 등)을 다수의 인자인것처럼 나눠서 전달\n",
    "    -받을때 *표기하는것이 packing이라면 보낼때 *표기하는 것은 unpacking입니다. colors는 하나의 리스트로 있지만 unpacking을 해서 따로따로 받아오는 것을 확인할 수 있습니다.\n"
   ]
  },
  {
   "cell_type": "markdown",
   "metadata": {},
   "source": [
    "## 가변인자 / Keyword Arguments\n",
    "\n",
    "- 인자의 갯수를 제한하지 않고 다수의 인자를 받을 수 있음\n",
    "- 다수의 Keyword Arguments 를 dict로 받을 수 있음(packing)"
   ]
  },
  {
   "cell_type": "code",
   "execution_count": 27,
   "metadata": {},
   "outputs": [],
   "source": [
    "def fn2(**scores) :\n",
    "    for key,score in scores.items() :\n",
    "        print(key,score)"
   ]
  },
  {
   "cell_type": "code",
   "execution_count": 29,
   "metadata": {},
   "outputs": [
    {
     "name": "stdout",
     "output_type": "stream",
     "text": [
      "apple 10\n",
      "orange 5\n",
      "===============\n",
      "apple 10\n",
      "banana 3\n",
      "orange 5\n",
      "===============\n",
      "apple 10\n",
      "banana 3\n",
      "mango 9\n",
      "orange 5\n"
     ]
    }
   ],
   "source": [
    "fn2(apple=10, orange=5)\n",
    "print('===============')\n",
    "fn2(apple=10, orange=5, banana=3)\n",
    "print('===============')\n",
    "fn2(apple=10, orange=5, banana=3, mango=9)"
   ]
  },
  {
   "cell_type": "code",
   "execution_count": 36,
   "metadata": {},
   "outputs": [],
   "source": [
    "def fn3(apple=0, **scores) :\n",
    "    print('applesssssssssss', apple) #이건 왜 출력 안되는가?\n",
    "    for key,score in scores,items() :\n",
    "        print(key,score)"
   ]
  },
  {
   "cell_type": "code",
   "execution_count": 37,
   "metadata": {},
   "outputs": [
    {
     "name": "stdout",
     "output_type": "stream",
     "text": [
      "apple 10\n",
      "banana 8\n",
      "mango 10\n",
      "orange 5\n"
     ]
    }
   ],
   "source": [
    "fn(apple=10, orange=5, banana=8, mango=10)"
   ]
  },
  {
   "cell_type": "markdown",
   "metadata": {},
   "source": [
    "## 함수 정의시 가변인자 정의가 유용할 경우는?\n",
    "\n",
    "- 클래스 상속에서 부모의 멤버함수를 재정의(오버라이딩)할때 유용함\n",
    "- 부모의 멤버함수에서 어떤 인자를 받던, 자식클래스의 멤버함수는 받은 인자 그대로 부모에게 넘겨줄때"
   ]
  },
  {
   "cell_type": "code",
   "execution_count": 38,
   "metadata": {},
   "outputs": [],
   "source": [
    "class People(object) :\n",
    "    def say_hello(self, name, age, region1 = None, region2 = None) :\n",
    "        pass\n",
    "class Developer(People) :\n",
    "    def say_hello(self, *args, **kwargs) : #*args, **kargs 를 사용해 받은 그대로\n",
    "        super().say_hello(*args, **kwargs) #부모에게 패스\n",
    "        print('부모의 인자구성 관련 없고, 받은 그대로 부모에게 돌려줌')"
   ]
  },
  {
   "cell_type": "markdown",
   "metadata": {},
   "source": [
    "*args, **kwargs 는 부모에게 부엇을 받던 받은 그대로를 부모에게 돌려주는 뜻이다"
   ]
  },
  {
   "cell_type": "markdown",
   "metadata": {},
   "source": [
    "## Anonymous Function(익명함수)\n",
    "\n",
    "- 파이썬에서 lambda식을 통해 익명함수 생성"
   ]
  },
  {
   "cell_type": "code",
   "execution_count": 40,
   "metadata": {},
   "outputs": [
    {
     "data": {
      "text/plain": [
       "<function __main__.<lambda>(x, y)>"
      ]
     },
     "execution_count": 40,
     "metadata": {},
     "output_type": "execute_result"
    }
   ],
   "source": [
    "lambda x,y : x+y #이것자체가 함수"
   ]
  },
  {
   "cell_type": "code",
   "execution_count": 41,
   "metadata": {},
   "outputs": [
    {
     "data": {
      "text/plain": [
       "3"
      ]
     },
     "execution_count": 41,
     "metadata": {},
     "output_type": "execute_result"
    }
   ],
   "source": [
    "(lambda x,y: x+y)(1,2)"
   ]
  },
  {
   "cell_type": "markdown",
   "metadata": {},
   "source": [
    "- return 문을 쓰지 않아도 마지막 값을 리턴으로 처리\n",
    "\n",
    "- 대개 인자로 1줄 함수를 지정할 때 사용\n",
    "\n",
    "- 일반 함수와 인자처리도 동일하게 처리(Positional Arguments, Keyword Arguments)\n",
    "\n",
    "\n"
   ]
  },
  {
   "cell_type": "code",
   "execution_count": 42,
   "metadata": {},
   "outputs": [
    {
     "name": "stdout",
     "output_type": "stream",
     "text": [
      "3\n",
      "3\n"
     ]
    }
   ],
   "source": [
    "# 일반함수와 lambda식의 비교\n",
    "def mysum1(x,y) :\n",
    "    return x+y\n",
    "\n",
    "mysum2 = lambda x,y:x+y\n",
    "\n",
    "print(mysum1(1,2))\n",
    "print(mysum2(1,2))"
   ]
  },
  {
   "cell_type": "code",
   "execution_count": 43,
   "metadata": {},
   "outputs": [
    {
     "name": "stdout",
     "output_type": "stream",
     "text": [
      "55\n"
     ]
    }
   ],
   "source": [
    "# lambda식의 활용\n",
    "\n",
    "mysum3 = lambda *args : sum(args) #인자를 args로 받아서 args를 모두 더한후 리턴\n",
    "print(mysum3(1,2,3,4,5,6,7,8,9,10))"
   ]
  },
  {
   "cell_type": "markdown",
   "metadata": {},
   "source": [
    "## 1급객체\n",
    "\n",
    "- 다른 객체들에 적용 가능한 연산을 모두 지원하는 객체(객체를 변수처럼 사용한다는 뜻)\n",
    "    - 인자로 넘기기, 변수에 대입하기 등\n",
    "    - 종류 : 일급함수/ 클래스 / 컨트롤 / 타입 / 데이터타입 등\n",
    "    \n",
    "### 1급함수/클래스\n",
    "\n",
    "- 함수/클래스를 런타임에 생성 가능\n",
    "- 함수/클래스를 변수에 할당이 가능\n",
    "- 함수/클래스를 인자나 리턴값으로 전달 가능"
   ]
  },
  {
   "cell_type": "code",
   "execution_count": 47,
   "metadata": {},
   "outputs": [
    {
     "data": {
      "text/plain": [
       "30"
      ]
     },
     "execution_count": 47,
     "metadata": {},
     "output_type": "execute_result"
    }
   ],
   "source": [
    "# 함수/클래스를 런타임에 생성 가능\n",
    "mysum1 = lambda x,y : x + y\n",
    "\n",
    "# 함수/클래스를 변수에 할당이 가능\n",
    "mysum2 = mysum1\n",
    "\n",
    "# 함수/클래스를 인자나 리턴값으로 전달 가능\n",
    "mysum2(10,20)"
   ]
  },
  {
   "cell_type": "code",
   "execution_count": 48,
   "metadata": {},
   "outputs": [],
   "source": [
    "# 함수를 넘겨서 사용가능\n",
    "def myfn(fn, x, y) :\n",
    "    return fn(x,y)"
   ]
  },
  {
   "cell_type": "code",
   "execution_count": 49,
   "metadata": {},
   "outputs": [
    {
     "data": {
      "text/plain": [
       "30"
      ]
     },
     "execution_count": 49,
     "metadata": {},
     "output_type": "execute_result"
    }
   ],
   "source": [
    "myfn(mysum1,10,20)"
   ]
  },
  {
   "cell_type": "code",
   "execution_count": 50,
   "metadata": {},
   "outputs": [
    {
     "data": {
      "text/plain": [
       "30"
      ]
     },
     "execution_count": 50,
     "metadata": {},
     "output_type": "execute_result"
    }
   ],
   "source": [
    "myfn(lambda x,y : x+y,10,20)"
   ]
  },
  {
   "cell_type": "code",
   "execution_count": 54,
   "metadata": {},
   "outputs": [],
   "source": [
    "### packing - 인자 갯수 노제한, 다수 인자 받는다\n",
    "def fn_packing(*colors) :\n",
    "    for color in colors :\n",
    "        print(color)"
   ]
  },
  {
   "cell_type": "code",
   "execution_count": 56,
   "metadata": {},
   "outputs": [
    {
     "name": "stdout",
     "output_type": "stream",
     "text": [
      "==============\n",
      "white\n",
      "==============\n",
      "white\n",
      "yellow\n",
      "==============\n",
      "white\n",
      "yellow\n",
      "black\n",
      "==============\n"
     ]
    }
   ],
   "source": [
    "fn_packing() \n",
    "print('==============')\n",
    "fn_packing('white') \n",
    "print('==============')\n",
    "fn_packing('white','yellow') \n",
    "print('==============')\n",
    "fn_packing('white','yellow','black') \n",
    "print('==============')\n",
    "\n",
    "# *을 써서 ㅕ러개의 값을 하나의 변수에 넣는 packing 을 사용"
   ]
  },
  {
   "cell_type": "code",
   "execution_count": 57,
   "metadata": {},
   "outputs": [],
   "source": [
    "### Unpacking - 인자를 넘길때 Sequemce Data Type(리스트/튜플 등) 을 다수의 인자인것처럼 나눠서 전달"
   ]
  },
  {
   "cell_type": "code",
   "execution_count": 59,
   "metadata": {},
   "outputs": [
    {
     "name": "stdout",
     "output_type": "stream",
     "text": [
      "white\n",
      "black\n",
      "yellow\n"
     ]
    }
   ],
   "source": [
    "colors = ['white','black','yellow']\n",
    "fn_packing(*colors)"
   ]
  },
  {
   "cell_type": "code",
   "execution_count": null,
   "metadata": {},
   "outputs": [],
   "source": []
  }
 ],
 "metadata": {
  "kernelspec": {
   "display_name": "Python 3",
   "language": "python",
   "name": "python3"
  },
  "language_info": {
   "codemirror_mode": {
    "name": "ipython",
    "version": 3
   },
   "file_extension": ".py",
   "mimetype": "text/x-python",
   "name": "python",
   "nbconvert_exporter": "python",
   "pygments_lexer": "ipython3",
   "version": "3.5.5"
  }
 },
 "nbformat": 4,
 "nbformat_minor": 2
}
