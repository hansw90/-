{
 "cells": [
  {
   "cell_type": "markdown",
   "metadata": {},
   "source": [
    "# 생성자(__init__) 이해 및 사용하기\n",
    "\n",
    "파이썬 오브젝트가 실행할때 호출되는 __init__ 함수에 대해 알아보자,"
   ]
  },
  {
   "cell_type": "markdown",
   "metadata": {},
   "source": [
    "__ __init__ __ (self)\n",
    "\n",
    "- 생성자, 클래스 인스턴스가 생성될 때 호출됨\n",
    "- self 인자는 항상 첫번째에 오며 자기 자신을 가리킴\n",
    "- 이름이 꼭 self일 필요는 없지만, 관례적으로 self 함수로 사용된다.\n",
    "- 생성자에는 해당 클래스가 다루는 데이터를 정의\n",
    "    - 이 데이터를 멤버 편수(member variable) 또는 속성(attribute)라고 한다."
   ]
  },
  {
   "cell_type": "code",
   "execution_count": 4,
   "metadata": {},
   "outputs": [
    {
     "name": "stdout",
     "output_type": "stream",
     "text": [
      "<__main__.Person object at 0x000001D8EB72DE08> is generated\n",
      "<__main__.Person object at 0x000001D8EB72D3C8> is generated\n",
      "kate 10\n",
      "arrron 20\n"
     ]
    }
   ],
   "source": [
    "class Person :\n",
    "    def __init__(self) : #파라미터 self\n",
    "        print(self ,  'is generated')\n",
    "        # person이 갖는 속성이 2가지가 있고 name, age라는 속성을 갖고 있다.\n",
    "        self.name = 'kate'\n",
    "        self.age = 10\n",
    "        \n",
    "p1 = Person()\n",
    "p2 = Person()\n",
    "\n",
    "print(p1.name, p1.age)\n",
    "\n",
    "# 속성을 밖에서 바꿀수도 있다.\n",
    "p1.name = 'arrron'\n",
    "p1.age = 20\n",
    "print(p1.name, p1.age)"
   ]
  },
  {
   "cell_type": "markdown",
   "metadata": {},
   "source": [
    "출력 결과는 메모리 주소를 나타낸다. "
   ]
  },
  {
   "cell_type": "markdown",
   "metadata": {},
   "source": [
    "위 처럼 name, 과 age 속성을 미리 정의 하는 것이 아니고 처음 호출 할때 지정 하는 방법또한 있다. "
   ]
  },
  {
   "cell_type": "code",
   "execution_count": 6,
   "metadata": {},
   "outputs": [
    {
     "name": "stdout",
     "output_type": "stream",
     "text": [
      "<__main__.Person object at 0x000001D8EB8D7C08> is generated\n",
      "<__main__.Person object at 0x000001D8EB732748> is generated\n",
      "Bob 30\n",
      "Kate 20\n"
     ]
    }
   ],
   "source": [
    "class Person :\n",
    "    # init 함수를 변경하여 name, age를 받는다\n",
    "    def __init__(self, name, age) : #파라미터 self\n",
    "        print(self ,  'is generated')\n",
    "        # person이 갖는 속성이 2가지가 있고 name, age라는 속성을 갖고 있다.\n",
    "        self.name = name\n",
    "        self.age = age\n",
    "        \n",
    "p1 = Person('Bob', 30)\n",
    "p2 = Person('Kate',20)\n",
    "\n",
    "print(p1.name, p1.age)\n",
    "print(p2.name, p2.age)\n"
   ]
  },
  {
   "cell_type": "code",
   "execution_count": 8,
   "metadata": {},
   "outputs": [
    {
     "name": "stdout",
     "output_type": "stream",
     "text": [
      "<__main__.Person object at 0x000001D8EB8E1848> is generated\n",
      "<__main__.Person object at 0x000001D8EB8E1888> is generated\n",
      "Bob 30\n",
      "Kate 30\n"
     ]
    }
   ],
   "source": [
    "class Person :\n",
    "    # init 함수를 변경하여 name, age를 받는다\n",
    "    def __init__(self, name, age=30) : #파라미터 self\n",
    "        print(self ,  'is generated')\n",
    "        # person이 갖는 속성이 2가지가 있고 name, age라는 속성을 갖고 있다.\n",
    "        self.name = name\n",
    "        self.age = age\n",
    "        \n",
    "p1 = Person('Bob', 30)\n",
    "p2 = Person('Kate')\n",
    "\n",
    "\n",
    "print(p1.name, p1.age)\n",
    "print(p2.name, p2.age)"
   ]
  },
  {
   "cell_type": "code",
   "execution_count": null,
   "metadata": {},
   "outputs": [],
   "source": []
  }
 ],
 "metadata": {
  "kernelspec": {
   "display_name": "Python 3",
   "language": "python",
   "name": "python3"
  },
  "language_info": {
   "codemirror_mode": {
    "name": "ipython",
    "version": 3
   },
   "file_extension": ".py",
   "mimetype": "text/x-python",
   "name": "python",
   "nbconvert_exporter": "python",
   "pygments_lexer": "ipython3",
   "version": "3.7.4"
  }
 },
 "nbformat": 4,
 "nbformat_minor": 2
}
