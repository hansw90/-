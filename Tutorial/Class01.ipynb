{
 "cells": [
  {
   "cell_type": "code",
   "execution_count": 4,
   "metadata": {},
   "outputs": [],
   "source": [
    "class BusinessCard:\n",
    "        def set_info(self, name, email, addr):\n",
    "                self.name = name\n",
    "                self.email = email\n",
    "                self.addr = addr\n",
    "        def print_info(self):\n",
    "                print(\"--------------------\")\n",
    "                print(\"Name: \", self.name)\n",
    "                print(\"E-mail: \", self.email)\n",
    "                print(\"Address: \", self.addr)\n",
    "                print(\"--------------------\")"
   ]
  },
  {
   "cell_type": "code",
   "execution_count": 5,
   "metadata": {},
   "outputs": [],
   "source": [
    "member1 = BusinessCard()\n",
    "member1.set_info(\"YunaKim\", \"yuna.kim@naver.com\", \"Seoul\")"
   ]
  },
  {
   "cell_type": "code",
   "execution_count": 6,
   "metadata": {},
   "outputs": [
    {
     "data": {
      "text/plain": [
       "('YunaKim', 'yuna.kim@naver.com', 'Seoul')"
      ]
     },
     "execution_count": 6,
     "metadata": {},
     "output_type": "execute_result"
    }
   ],
   "source": [
    "member1.name , member1.email, member1.addr"
   ]
  },
  {
   "cell_type": "code",
   "execution_count": 7,
   "metadata": {},
   "outputs": [],
   "source": [
    "member2 = BusinessCard()\n",
    "member2.set_info(\"Sarang Lee\", \"sarang.lee@naver.com\", \"Kyunggi\")"
   ]
  },
  {
   "cell_type": "code",
   "execution_count": 8,
   "metadata": {},
   "outputs": [
    {
     "data": {
      "text/plain": [
       "('Sarang Lee', 'sarang.lee@naver.com', 'Kyunggi')"
      ]
     },
     "execution_count": 8,
     "metadata": {},
     "output_type": "execute_result"
    }
   ],
   "source": [
    "member2.name , member2.email, member2.addr"
   ]
  },
  {
   "cell_type": "code",
   "execution_count": null,
   "metadata": {},
   "outputs": [],
   "source": []
  }
 ],
 "metadata": {
  "kernelspec": {
   "display_name": "Python 3",
   "language": "python",
   "name": "python3"
  },
  "language_info": {
   "codemirror_mode": {
    "name": "ipython",
    "version": 3
   },
   "file_extension": ".py",
   "mimetype": "text/x-python",
   "name": "python",
   "nbconvert_exporter": "python",
   "pygments_lexer": "ipython3",
   "version": "3.7.0"
  }
 },
 "nbformat": 4,
 "nbformat_minor": 2
}
