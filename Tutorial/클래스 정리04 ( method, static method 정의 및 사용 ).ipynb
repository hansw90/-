{
 "cells": [
  {
   "cell_type": "markdown",
   "metadata": {},
   "source": [
    "# method, static method 정의 및 사용"
   ]
  },
  {
   "cell_type": "markdown",
   "metadata": {},
   "source": [
    "__method__ 정의\n",
    "\n",
    "\n",
    "- 멤버 함수라고도 하며, 해당 클래스의 object에서만 호출가능\n",
    "- 메소드는 객체 레벨에서 호출되며, 해당 객체의 속성에 대한 연산을 행한다.\n",
    "- {obj}.{method}() 형태로 호출된다."
   ]
  },
  {
   "cell_type": "code",
   "execution_count": 3,
   "metadata": {},
   "outputs": [
    {
     "data": {
      "text/plain": [
       "([1, 2, 3, 2], 'test')"
      ]
     },
     "execution_count": 3,
     "metadata": {},
     "output_type": "execute_result"
    }
   ],
   "source": [
    "a = list([1,2,3])\n",
    "a.append(2)\n",
    "\n",
    "\n",
    "s = 'test'\n",
    "s.split()\n",
    "\n",
    "a,s\n",
    "# . 들을 찍어 호출한다."
   ]
  },
  {
   "cell_type": "code",
   "execution_count": 9,
   "metadata": {},
   "outputs": [
    {
     "name": "stdout",
     "output_type": "stream",
     "text": [
      "현재값은 ?? : 0\n",
      "현재값은 ?? : 3\n",
      "현재값은 ?? : 0\n",
      "현재값은 ?? : 1\n"
     ]
    }
   ],
   "source": [
    "# 정의할 Counter의 기능\n",
    "# 1. 숫자를 하나 증가\n",
    "# 2. 숫자를 0으로 초기화\n",
    "\n",
    "class Counter :\n",
    "    def __init__(self, num = 0) :\n",
    "        self.num = num\n",
    "    \n",
    "    def increment(self) :\n",
    "        self.num += 1\n",
    "    \n",
    "    def reset(self) :\n",
    "        self.num = 0\n",
    "    \n",
    "    \n",
    "    def print_current_value(self) :\n",
    "        print('현재값은 ?? :', self.num)\n",
    "    \n",
    "    \n",
    "c1 = Counter()\n",
    "c1.print_current_value()\n",
    "c1.increment()\n",
    "c1.increment()\n",
    "c1.increment()\n",
    "c1.print_current_value()\n",
    "\n",
    "c1.reset()\n",
    "c1.print_current_value()\n",
    "\n",
    "c2 = Counter()\n",
    "c2.increment()\n",
    "c2.print_current_value()"
   ]
  },
  {
   "cell_type": "markdown",
   "metadata": {},
   "source": [
    "__method type__\n",
    "\n",
    "method type 에는 크게 2가지가 있다.\n",
    "\n",
    "- instance method - 객체로 호출\n",
    "    - 위 처럼 객체 호출을 통해 사용 하는 방법\n",
    "    - 메소드는 객체 레벨로 호출 되기 떄문에, 해당 메소드를 호출한 객체에만 영향을 미친다.\n",
    "    \n",
    "- class method(static method) - class로 호출\n",
    "    - 클래스 메소드의 경우, 클래스 레벨로 호출되기 때문에, 클래스 멤버 변수만 변경 가능"
   ]
  },
  {
   "cell_type": "code",
   "execution_count": 15,
   "metadata": {},
   "outputs": [
    {
     "name": "stdout",
     "output_type": "stream",
     "text": [
      "30 200\n",
      "30 200\n"
     ]
    }
   ],
   "source": [
    "class Math :\n",
    "    \n",
    "    @staticmethod\n",
    "    def add(a, b) :\n",
    "        return a + b\n",
    "    \n",
    "    @staticmethod\n",
    "    def multiply(a, b) :\n",
    "        return a * b \n",
    "    \n",
    "m = Math()\n",
    "print(m.add(10,20), m.multiply(10,20))\n",
    "\n",
    "# 위만 보면 속성이 없기 때문에, self가 딱히 필요가 없어보인다.\n",
    "# 즉, 어떤 데이터을 유지할 필요가 없을때, 인스턴스 레벨의 메소드를 생성할 필요가 없다.\n",
    "# 위처럼 딱 어떠한 계산만 처리할때 사용하는 메소드를 staticmethod라고 하며\n",
    "# @staticmethod 데코레이터를 메소드 위에 적어 넣는다\n",
    "# 그렇게 하면 아래 와 같이 객체를 생성할 필요 없이\n",
    "# 클래스 이름을 바로 호출하여 사용 가능 하다는것이다.\n",
    "\n",
    "print(Math.add(10,20), Math.multiply(10,20))"
   ]
  },
  {
   "cell_type": "code",
   "execution_count": null,
   "metadata": {},
   "outputs": [],
   "source": []
  }
 ],
 "metadata": {
  "kernelspec": {
   "display_name": "Python 3",
   "language": "python",
   "name": "python3"
  },
  "language_info": {
   "codemirror_mode": {
    "name": "ipython",
    "version": 3
   },
   "file_extension": ".py",
   "mimetype": "text/x-python",
   "name": "python",
   "nbconvert_exporter": "python",
   "pygments_lexer": "ipython3",
   "version": "3.7.4"
  }
 },
 "nbformat": 4,
 "nbformat_minor": 2
}
