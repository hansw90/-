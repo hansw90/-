{
 "cells": [
  {
   "cell_type": "markdown",
   "metadata": {},
   "source": [
    "# 파이썬 enumerate\n",
    "\n",
    "enumerate(열거하다)\n",
    "    이함수는 순서가 있는 자료형(리스트, 튜플, 문자열)을 입력받아 인덱스값에 포함     시키는 역할 쉽게 말하자면 리스트,튜플,문자열에 순서를 넣는다고 생각하면 된다.\n",
    "\n",
    "대부분 순서를 내야하기 때문에 반복문 for문과 같이 쓰인다.\n",
    "(값 한개당 1번의 반복을 하므로)\n"
   ]
  },
  {
   "cell_type": "code",
   "execution_count": 1,
   "metadata": {},
   "outputs": [
    {
     "name": "stdout",
     "output_type": "stream",
     "text": [
      "번호 :0, 성:김씨\n",
      "번호 :1, 성:최씨\n",
      "번호 :2, 성:이씨\n",
      "번호 :3, 성:박씨\n",
      "번호 :4, 성:정씨\n",
      "번호 :5, 성:장씨\n"
     ]
    }
   ],
   "source": [
    "students = [\"김씨\",\"최씨\",\"이씨\",\"박씨\",\"정씨\",\"장씨\"]\n",
    "\n",
    "for number,name in enumerate(students) :\n",
    "    print(\"번호 :{}, 성:{}\".format(number, name))\n",
    "    \n",
    "#for 다음에 오는 변수명은 순서를 지정해주는 변수이다."
   ]
  },
  {
   "cell_type": "code",
   "execution_count": 3,
   "metadata": {},
   "outputs": [
    {
     "name": "stdout",
     "output_type": "stream",
     "text": [
      "성: (0, '김씨')\n",
      "성: (1, '최씨')\n",
      "성: (2, '이씨')\n",
      "성: (3, '박씨')\n",
      "성: (4, '정씨')\n",
      "성: (5, '장씨')\n"
     ]
    }
   ],
   "source": [
    "# number를 지우고 실행한다면?? \n",
    "students = [\"김씨\", \"최씨\", \"이씨\", \"박씨\", \"정씨\", \"장씨\"]\n",
    " \n",
    "for name in enumerate(students):\n",
    "    print(\"성: {}\".format( name))\n",
    "\n",
    "# enumberate 는 for문 바로 다음에 오는 변수가 무조건 순서를 계산하는 변수명이 된다는걸 보여준다"
   ]
  },
  {
   "cell_type": "code",
   "execution_count": null,
   "metadata": {},
   "outputs": [],
   "source": []
  }
 ],
 "metadata": {
  "kernelspec": {
   "display_name": "Python 3",
   "language": "python",
   "name": "python3"
  },
  "language_info": {
   "codemirror_mode": {
    "name": "ipython",
    "version": 3
   },
   "file_extension": ".py",
   "mimetype": "text/x-python",
   "name": "python",
   "nbconvert_exporter": "python",
   "pygments_lexer": "ipython3",
   "version": "3.5.5"
  }
 },
 "nbformat": 4,
 "nbformat_minor": 2
}
