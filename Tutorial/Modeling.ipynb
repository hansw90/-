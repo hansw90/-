{
 "cells": [
  {
   "cell_type": "markdown",
   "metadata": {},
   "source": [
    "# 파이썬 클래스, 인스턴스 모델링,  메소드 정의, 기초 개념잡기\n",
    "\n",
    "\n",
    "## 클래스\n",
    "- 변수나 함수들을 모아서 필요할때 사용할 수 있는 집합체\n",
    "\n",
    "## 인스턴스\n",
    "- 클래스에 의해 만들어진 객체\n",
    "- 인스턴스는 각자 자신의 값을 가지고 있음\n",
    "\n",
    "## 모델링\n",
    "- 클래스로 현실의 개념을 표현\n",
    "\n",
    "## 메소드\n",
    "- 함수와 비슷한 개념\n",
    "- 클래스에 묶여서 클래스 안에 있는 인스턴스와 관계되는 함수"
   ]
  },
  {
   "cell_type": "code",
   "execution_count": 4,
   "metadata": {},
   "outputs": [
    {
     "name": "stdout",
     "output_type": "stream",
     "text": [
      "엄마!! 저기 강아지가 말해요\n"
     ]
    }
   ],
   "source": [
    "# 클래스 생성 #\n",
    "class alphago() :\n",
    "    '''알파고고'''\n",
    "    \n",
    "#클래스 생성 끝#\n",
    "\n",
    "## 인스턴스 생성##\n",
    "choice1 = alphago()\n",
    "choice2 = alphago()\n",
    "\n",
    "## 인스턴스 생성 끝 ##\n",
    "\n",
    "### 클래스 특성 만들기 ###\n",
    "choice1.what = '강아지'\n",
    "choice2.what = '사람'\n",
    "\n",
    "choice1.speak = '말해'\n",
    "choice2.speak = '짖어'\n",
    "\n",
    "def rst(choice) :\n",
    "    print('엄마!! 저기 {}가 {}요'.format(choice.what, choice.speak))\n",
    "    \n",
    "alphago.rst = rst\n",
    "choice1.rst()"
   ]
  },
  {
   "cell_type": "code",
   "execution_count": 5,
   "metadata": {
    "scrolled": true
   },
   "outputs": [
    {
     "name": "stdout",
     "output_type": "stream",
     "text": [
      "엄마!! 저기 사람가 짖어요\n"
     ]
    }
   ],
   "source": [
    "choice2.rst()"
   ]
  },
  {
   "cell_type": "markdown",
   "metadata": {},
   "source": [
    "## 모델링(클래스의 개념을 현실에 표현)"
   ]
  },
  {
   "cell_type": "code",
   "execution_count": 7,
   "metadata": {},
   "outputs": [
    {
     "name": "stdout",
     "output_type": "stream",
     "text": [
      "짱구가 나이를 먹어서 11살이 되었습니다.\n",
      "짱구가 과거로 돌아가 10살이 되었습니다.\n",
      "짱구가 나이를 먹어서 11살이 되었습니다.\n"
     ]
    }
   ],
   "source": [
    "#사람이라는 클래스를 작성\n",
    "class Human():\n",
    "    '''!사람 클래스 생성!'''\n",
    " \n",
    " \n",
    "'''사람 만들기 함수'''\n",
    "def create_Human(name, age): #사람의 이름과 나이를 넣어 만들것이다 \n",
    "    person = Human()         #Human클래스를 person에 넣어 사용!. @@인스턴스 생성@@\n",
    "    person.name = name         #class의 이름은 name로 사용!\n",
    "    person.age = age         #class의 나이는 age로 사용!\n",
    "    return person             #함수를 끝내고 person으로 돌아간다!\n",
    "#이 함수(def)는 인간의 형태를 만드는데 위에 선언한 클래스를 사용하여 이름과 나이를 집어넣는다는 뜻입니다.\n",
    " \n",
    "Human.create = create_Human\n",
    "#클래스를.만든다 = 함수를 통해서\n",
    "#다시 설명하자면 create_Human(함수에서 만든 내용을) 클래스에 집어 넣는다.\n",
    " \n",
    " \n",
    "###========여기까지가 클래스의 뼈대만들기 입니다.=========###\n",
    " \n",
    "'''본격적으로 사용자가 값을 집어넣어 볼까요?'''\n",
    "person = Human.create('짱구',10) #person에 짱구, 10이라는 값을 넣어준다.(14줄에 선언한것)\n",
    " \n",
    "###========여기까지가 클래스의 살붙이기 입니다.=========###\n",
    " \n",
    " \n",
    "def old(person):    #person에 old가 들어온다면\n",
    "    person.age += 1 #1살을 먹이겠다!\n",
    "    print('{}가 나이를 먹어서 {}살이 되었습니다.'.format(person.name, person.age)) #1살 먹인것 확인\n",
    " \n",
    "def young(person):    #person에 young가 들어오면\n",
    "    person.age -= 1   #1살을 줄여주겠다!\n",
    "    print('{}가 과거로 돌아가 {}살이 되었습니다.'.format(person.name, person.age))#1살 줄이기 확인\n",
    " \n",
    "Human.old = old            #27~29줄을 클래스에 넣어주겠다\n",
    "Human.young = young        #31~33줄을 클래스에 넣어주겠다\n",
    " \n",
    "person.old()            #이렇게 인스턴스에 함수를 호출하는것을 메소드를 호출한다고 한다.\n",
    "person.young()          #이렇게 인스턴스에 함수를 호출하는것을 메소드를 호출한다고 한다.\n",
    "person.old()            #이렇게 인스턴스에 함수를 호출하는것을 메소드를 호출한다고 한다.Colored by Color Scripter\n",
    "\n",
    "# 모델링 실행"
   ]
  },
  {
   "cell_type": "code",
   "execution_count": null,
   "metadata": {},
   "outputs": [],
   "source": []
  }
 ],
 "metadata": {
  "kernelspec": {
   "display_name": "Python 3",
   "language": "python",
   "name": "python3"
  },
  "language_info": {
   "codemirror_mode": {
    "name": "ipython",
    "version": 3
   },
   "file_extension": ".py",
   "mimetype": "text/x-python",
   "name": "python",
   "nbconvert_exporter": "python",
   "pygments_lexer": "ipython3",
   "version": "3.5.5"
  }
 },
 "nbformat": 4,
 "nbformat_minor": 2
}
