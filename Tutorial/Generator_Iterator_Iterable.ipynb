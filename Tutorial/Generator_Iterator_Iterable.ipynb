{
 "cells": [
  {
   "cell_type": "markdown",
   "metadata": {},
   "source": [
    "# Generator, Iterable, Iterator"
   ]
  },
  {
   "cell_type": "markdown",
   "metadata": {},
   "source": [
    "작업을 하다 os.walk 라는 명령어를 쓸때가 있다.  \n",
    "os.walk는 시작 디렉터리부터 시작하여 그 하위 모든 디렉터리를 차례대로 방문하게 해주는 함수이다. \n",
    "\n",
    "이 os.walk가 return 해주는 type은 generator라는 type 이다.   \n",
    "generator는 무엇일까? generator를 알기 위해선 Iterable, Iterator를 모두 알아야 한다.  \n",
    "\n",
    "이번 내용에서는 위의 내용을 예를 들어 설명해보도록 하겠다.\n",
    "\n",
    "![](20200222_170316.png)\n"
   ]
  },
  {
   "cell_type": "code",
   "execution_count": 2,
   "metadata": {},
   "outputs": [
    {
     "name": "stdout",
     "output_type": "stream",
     "text": [
      " C 드라이브의 볼륨에는 이름이 없습니다.\n",
      " 볼륨 일련 번호: 0689-C013\n",
      "\n",
      " C:\\Users\\ashgh\\Python\\Tutorial 디렉터리\n",
      "\n",
      "2020-02-22  오후 05:05    <DIR>          .\n",
      "2020-02-22  오후 05:05    <DIR>          ..\n",
      "2020-02-22  오후 04:59    <DIR>          .ipynb_checkpoints\n",
      "2020-02-22  오후 05:03             5,556 20200222_170316.png\n",
      "2019-10-28  오후 04:57             1,534 Address.py\n",
      "2019-10-28  오후 06:19            27,365 Class_final.ipynb\n",
      "2019-10-28  오후 04:57             2,506 Class01.ipynb\n",
      "2019-10-28  오후 04:57            11,276 Class02.ipynb\n",
      "2019-10-28  오후 04:57             4,814 Class03.ipynb\n",
      "2019-10-28  오후 04:57             6,646 Class04.ipynb\n",
      "2019-10-28  오후 04:57             5,098 Comprehension.ipynb\n",
      "2019-10-28  오후 04:57             3,146 Dictionary.py\n",
      "2019-10-28  오후 04:57             2,677 Enumerate.ipynb\n",
      "2019-10-28  오후 04:57               458 executable.py\n",
      "2019-10-28  오후 04:57             2,073 For.py\n",
      "2019-10-28  오후 04:57             3,672 Inheritance.ipynb\n",
      "2019-10-28  오후 04:57             2,658 Init_Str.ipynb\n",
      "2019-10-28  오후 04:57             6,312 List01.ipynb\n",
      "2019-10-28  오후 04:57             5,731 Modeling.ipynb\n",
      "2019-10-28  오후 04:57             2,062 Override.ipynb\n",
      "2019-10-28  오후 04:57             3,863 Packing_Unpacking.ipynb\n",
      "2019-10-28  오후 04:57            23,454 Pandas_using.ipynb\n",
      "2019-10-28  오후 04:57            15,758 python_function.ipynb\n",
      "2019-10-28  오후 04:57               458 python_MySql.py\n",
      "2019-10-28  오후 04:57                92 README.MD\n",
      "2019-10-28  오후 04:57             4,442 Super.ipynb\n",
      "2019-10-28  오후 04:57             3,021 tuple.py\n",
      "2020-01-19  오후 10:38             3,167 Untitled.ipynb\n",
      "2020-02-22  오후 05:05             1,319 Untitled1.ipynb\n",
      "2019-10-28  오후 04:57             1,625 VariableSave.ipynb\n",
      "2019-10-28  오후 04:57             3,021 while.ipynb\n",
      "              28개 파일             153,804 바이트\n",
      "               3개 디렉터리  119,372,476,416 바이트 남음\n"
     ]
    }
   ],
   "source": []
  },
  {
   "cell_type": "code",
   "execution_count": null,
   "metadata": {},
   "outputs": [],
   "source": []
  }
 ],
 "metadata": {
  "kernelspec": {
   "display_name": "Python 3",
   "language": "python",
   "name": "python3"
  },
  "language_info": {
   "codemirror_mode": {
    "name": "ipython",
    "version": 3
   },
   "file_extension": ".py",
   "mimetype": "text/x-python",
   "name": "python",
   "nbconvert_exporter": "python",
   "pygments_lexer": "ipython3",
   "version": "3.7.4"
  }
 },
 "nbformat": 4,
 "nbformat_minor": 2
}
