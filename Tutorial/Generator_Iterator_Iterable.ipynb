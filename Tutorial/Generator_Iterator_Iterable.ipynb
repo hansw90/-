{
 "cells": [
  {
   "cell_type": "markdown",
   "metadata": {},
   "source": [
    "# Generator, Iterable, Iterator"
   ]
  },
  {
   "cell_type": "markdown",
   "metadata": {},
   "source": [
    "작업을 하다 os.walk 라는 명령어를 쓸때가 있다.  \n",
    "os.walk는 시작 디렉터리부터 시작하여 그 하위 모든 디렉터리를 차례대로 방문하게 해주는 함수이다. \n",
    "\n",
    "이 os.walk가 return 해주는 type은 generator라는 type 이다.   \n",
    "generator는 무엇일까? generator를 알기 위해선 Iterable, Iterator를 모두 알아야 한다.  \n",
    "\n",
    "이번 내용에서는 위의 내용을 예를 들어 설명해보도록 하겠다.\n",
    "\n",
    "![](20200222_170316.png)\n"
   ]
  },
  {
   "cell_type": "markdown",
   "metadata": {},
   "source": [
    "\n",
    "- __generator__ ? : 제너레이터는 iterator를 생성해주는 function 입니다. iterator 는 next() 메소드를 이용해 데이터에 순차적으로 접근이 가능합니다.  \n",
    "\n",
    "\n",
    "- __iterable__ ?  : meber를 하나씩 차례로 반환 가능한 object를 의미합니다. ex) sequence tpye인 list, str, tuple 등..\n",
    "  - 더 나아가 iterable 은 for, loop 말고도, zip(), map()과 같이 sequence 한 특징을 필요로 하는 작업에 유용하게 사용한다.\n",
    "  - zip([iterable, ''']) : 이 함수는 튜플 목록을 반환하며, 여기서 i번째 튜플은 각 인수 시퀀스 또는 반복 가능의 i번째 요소를 포함한다.\n",
    "  - map(function, iterable) : 허용 가능한 모든 항목에 기능을 적용하고 결과 목록을 반환합니다.\n",
    "  - zip() 이나 map() 의 함수의 경우 iterable 을 argument 로 받는 것으로 정의 되어 있습니다.   \n",
    "\n",
    "- __Iterator__ ? :  iterator 는 위에서도 말했듯 next()메소드로 데이터를 순차적으로 호출가능한 object 입니다. 만약 next()로 다음 데이터를 불러올수 없는 경우에는 Stopiteration exception을 방생시킵니다. \n",
    "\n",
    "- __Quiz__ : 그럼 iterable 한 object들은 모두 iterator인가? 정답은 아래 예제\n"
   ]
  },
  {
   "cell_type": "code",
   "execution_count": 3,
   "metadata": {},
   "outputs": [
    {
     "ename": "TypeError",
     "evalue": "'list' object is not an iterator",
     "output_type": "error",
     "traceback": [
      "\u001b[1;31m---------------------------------------------------------------------------\u001b[0m",
      "\u001b[1;31mTypeError\u001b[0m                                 Traceback (most recent call last)",
      "\u001b[1;32m<ipython-input-3-33b0a875ac34>\u001b[0m in \u001b[0;36m<module>\u001b[1;34m\u001b[0m\n\u001b[0;32m      1\u001b[0m \u001b[0mx\u001b[0m \u001b[1;33m=\u001b[0m \u001b[1;33m[\u001b[0m\u001b[1;33m[\u001b[0m\u001b[1;36m1\u001b[0m\u001b[1;33m,\u001b[0m\u001b[1;36m2\u001b[0m\u001b[1;33m,\u001b[0m\u001b[1;36m3\u001b[0m\u001b[1;33m]\u001b[0m\u001b[1;33m,\u001b[0m\u001b[1;33m[\u001b[0m\u001b[1;36m123\u001b[0m\u001b[1;33m]\u001b[0m\u001b[1;33m]\u001b[0m\u001b[1;33m\u001b[0m\u001b[1;33m\u001b[0m\u001b[0m\n\u001b[1;32m----> 2\u001b[1;33m \u001b[0mnext\u001b[0m\u001b[1;33m(\u001b[0m\u001b[0mx\u001b[0m\u001b[1;33m)\u001b[0m\u001b[1;33m\u001b[0m\u001b[1;33m\u001b[0m\u001b[0m\n\u001b[0m",
      "\u001b[1;31mTypeError\u001b[0m: 'list' object is not an iterator"
     ]
    }
   ],
   "source": [
    "x = [[1,2,3],[123]]\n",
    "next(x)"
   ]
  },
  {
   "cell_type": "markdown",
   "metadata": {},
   "source": [
    "위같이 iterable 이라고 해서 iterator은 아니다.  \n",
    "list 는 iterable 이지만 next()메소드로 호출해도 동작하지 않는것을 볼 수 있습니다."
   ]
  },
  {
   "cell_type": "code",
   "execution_count": 4,
   "metadata": {},
   "outputs": [
    {
     "name": "stdout",
     "output_type": "stream",
     "text": [
      "<class 'list_iterator'>\n",
      "1\n",
      "2\n",
      "3\n",
      "[1, 2, 3]\n"
     ]
    }
   ],
   "source": [
    "x = [1,2,3,[1,2,3]]\n",
    "y = iter(x)\n",
    "print(type(y))\n",
    "print(next(y))\n",
    "print(next(y))\n",
    "print(next(y))\n",
    "print(next(y))\n",
    "\n",
    "# 위같이 iterator를 만들 수 있습니다."
   ]
  },
  {
   "cell_type": "code",
   "execution_count": 6,
   "metadata": {},
   "outputs": [
    {
     "ename": "StopIteration",
     "evalue": "",
     "output_type": "error",
     "traceback": [
      "\u001b[1;31m---------------------------------------------------------------------------\u001b[0m",
      "\u001b[1;31mStopIteration\u001b[0m                             Traceback (most recent call last)",
      "\u001b[1;32m<ipython-input-6-9c3ac20edf90>\u001b[0m in \u001b[0;36m<module>\u001b[1;34m\u001b[0m\n\u001b[0;32m      1\u001b[0m \u001b[1;31m# 끝까지 다 호출한 후에는 아래 같이 StopIteration exception error를 호출합니다.\u001b[0m\u001b[1;33m\u001b[0m\u001b[1;33m\u001b[0m\u001b[1;33m\u001b[0m\u001b[0m\n\u001b[1;32m----> 2\u001b[1;33m \u001b[0mprint\u001b[0m\u001b[1;33m(\u001b[0m\u001b[0mnext\u001b[0m\u001b[1;33m(\u001b[0m\u001b[0my\u001b[0m\u001b[1;33m)\u001b[0m\u001b[1;33m)\u001b[0m\u001b[1;33m\u001b[0m\u001b[1;33m\u001b[0m\u001b[0m\n\u001b[0m",
      "\u001b[1;31mStopIteration\u001b[0m: "
     ]
    }
   ],
   "source": [
    "# 끝까지 다 호출한 후에는 아래 같이 StopIteration exception error를 호출합니다.\n",
    "print(next(y))"
   ]
  },
  {
   "cell_type": "code",
   "execution_count": null,
   "metadata": {},
   "outputs": [],
   "source": []
  }
 ],
 "metadata": {
  "kernelspec": {
   "display_name": "Python 3",
   "language": "python",
   "name": "python3"
  },
  "language_info": {
   "codemirror_mode": {
    "name": "ipython",
    "version": 3
   },
   "file_extension": ".py",
   "mimetype": "text/x-python",
   "name": "python",
   "nbconvert_exporter": "python",
   "pygments_lexer": "ipython3",
   "version": "3.7.4"
  }
 },
 "nbformat": 4,
 "nbformat_minor": 2
}
