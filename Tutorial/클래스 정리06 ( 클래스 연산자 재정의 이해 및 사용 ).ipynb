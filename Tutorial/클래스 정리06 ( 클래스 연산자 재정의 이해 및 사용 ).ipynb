{
 "cells": [
  {
   "cell_type": "markdown",
   "metadata": {},
   "source": [
    "# 클래스 연산자 재정의 이해 및 사용"
   ]
  },
  {
   "cell_type": "markdown",
   "metadata": {},
   "source": [
    "### Special method\n",
    "- __로시작 __끝나는 특수 함수 \n",
    "- 해당 메소드들을 구현하면, 커스텀 객체에 여러가지 파이썬 내장함수나 연산자를 적용 가능하다.\n",
    "- 기능들은 docs.python.org/3/reference/datamodel.html 들을 찾아 보기로 하자"
   ]
  },
  {
   "cell_type": "code",
   "execution_count": 9,
   "metadata": {},
   "outputs": [
    {
     "name": "stdout",
     "output_type": "stream",
     "text": [
      "3, 4\n",
      "2, 7\n"
     ]
    },
    {
     "data": {
      "text/plain": [
       "(3, 4)"
      ]
     },
     "execution_count": 9,
     "metadata": {},
     "output_type": "execute_result"
    }
   ],
   "source": [
    "# point 라는 class 생성\n",
    "# 2차원 좌표 평면 각점 (x, y)\n",
    "# 연산\n",
    "# 두점의 덧셈, 뺄셈\n",
    "# 한점과 숫자의 곱(1, 2) * 3 =(3, 6)\n",
    "# 그 점의 길이 (0, 0) 부터의 거리\n",
    "# x, y 값 가져오기 \n",
    "# 출력하기\n",
    "\n",
    "class Point :\n",
    "    def __init__(self, x, y) :\n",
    "        self.x = x\n",
    "        self.y = y\n",
    "        \n",
    "    def print_pt(self) :\n",
    "        print('{}, {}'. format(self.x, self.y))\n",
    "\n",
    "p1 = Point(3, 4)\n",
    "p2 = Point(2, 7)\n",
    "\n",
    "p1.print_pt()\n",
    "p2.print_pt()\n",
    "p1.x, p1.y"
   ]
  },
  {
   "cell_type": "markdown",
   "metadata": {},
   "source": [
    "위와 같이 print_pt를 호출하는게 아닌\n",
    "print(p1)을 했을때 바로 좌표를 출력하게 만들 수 없을까?\n",
    "\n",
    "## overriding 이 정답!"
   ]
  },
  {
   "cell_type": "code",
   "execution_count": 11,
   "metadata": {},
   "outputs": [
    {
     "name": "stdout",
     "output_type": "stream",
     "text": [
      "3, 4\n",
      "2, 7\n",
      "5, 11\n"
     ]
    }
   ],
   "source": [
    "class Point :\n",
    "    def __init__(self, x, y) :\n",
    "        self.x = x\n",
    "        self.y = y\n",
    "\n",
    "    def add (self, pt) :\n",
    "        new_x = self.x + pt.x\n",
    "        new_y = self.y + pt.y\n",
    "        return Point(new_x, new_y)\n",
    "        \n",
    "    # string 출력의 경우 아래처럼 __str__를 ~\n",
    "    def __str__(self) :\n",
    "        return '{}, {}'. format(self.x, self.y)\n",
    "\n",
    "p1 = Point(3, 4)\n",
    "p2 = Point(2, 7)\n",
    "p3 = p1.add(p2)\n",
    "\n",
    "\n",
    "# 주소가 아닌 좌표가 출력된다.\n",
    "print(p1)\n",
    "print(p2)\n",
    "print(p3)"
   ]
  },
  {
   "cell_type": "markdown",
   "metadata": {},
   "source": [
    "또 위처럼 귀찮게 add를 하지 말고 좀더 편한 방법은 없을까?  \n",
    "여기서도 오버라이딩이 이용된다."
   ]
  },
  {
   "cell_type": "code",
   "execution_count": 17,
   "metadata": {},
   "outputs": [
    {
     "name": "stdout",
     "output_type": "stream",
     "text": [
      "3, 4\n",
      "2, 7\n",
      "5, 11\n",
      "1, -3\n",
      "9, 12\n",
      "3 12\n"
     ]
    }
   ],
   "source": [
    "class Point :\n",
    "    def __init__(self, x, y) :\n",
    "        self.x = x\n",
    "        self.y = y\n",
    "    \n",
    "    # add의 경우 __add__를 ~\n",
    "    def __add__ (self, pt) :\n",
    "        new_x = self.x + pt.x\n",
    "        new_y = self.y + pt.y\n",
    "        return Point(new_x, new_y)\n",
    "        \n",
    "    # 뺄샘의 경우 __sub__ 를~\n",
    "    def __sub__ (self, pt) :\n",
    "        new_x = self.x - pt.x\n",
    "        new_y = self.y - pt.y\n",
    "        return Point(new_x, new_y)\n",
    "    \n",
    "    # 곱샘의 경우 __mul__ 를 사용\n",
    "    def __mul__(self, factor) :\n",
    "        new_x = self.x * factor\n",
    "        new_y = self.y * factor\n",
    "        return Point(new_x, new_y)\n",
    "\n",
    "    # p1[0], p2[0] 이런 index 값을 가져올 수 있을까?\n",
    "    def __getitem__(self, index) :\n",
    "        if index == 0 :\n",
    "            return self.x\n",
    "        elif index == 1 :\n",
    "            return self.y\n",
    "        else :\n",
    "            return -1\n",
    "    \n",
    "    # string 출력의 경우 아래처럼 __str__를 ~\n",
    "    def __str__(self) :\n",
    "        return '{}, {}'. format(self.x, self.y)\n",
    "\n",
    "p1 = Point(3, 4)\n",
    "p2 = Point(2, 7)\n",
    "p3 = p1 + p2\n",
    "p4 = p1 - p2\n",
    "p5 = p1 * 3\n",
    "\n",
    "# 주소가 아닌 좌표가 출력된다.\n",
    "print(p1)\n",
    "print(p2)\n",
    "print(p3)\n",
    "print(p4)\n",
    "print(p5)\n",
    "\n",
    "print(p1[0],  p5[1])"
   ]
  },
  {
   "cell_type": "code",
   "execution_count": null,
   "metadata": {},
   "outputs": [],
   "source": []
  }
 ],
 "metadata": {
  "kernelspec": {
   "display_name": "Python 3",
   "language": "python",
   "name": "python3"
  },
  "language_info": {
   "codemirror_mode": {
    "name": "ipython",
    "version": 3
   },
   "file_extension": ".py",
   "mimetype": "text/x-python",
   "name": "python",
   "nbconvert_exporter": "python",
   "pygments_lexer": "ipython3",
   "version": "3.7.4"
  }
 },
 "nbformat": 4,
 "nbformat_minor": 2
}
