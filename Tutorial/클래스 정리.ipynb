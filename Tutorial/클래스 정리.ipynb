{
 "cells": [
  {
   "cell_type": "markdown",
   "metadata": {},
   "source": [
    "# 클래스와 오브젝트"
   ]
  },
  {
   "cell_type": "markdown",
   "metadata": {},
   "source": [
    "## 클래스란?\n",
    "- 실세계의 것을 모델링하여 속성(arribute)와 동작(method)를 갖는 데이터 타입\n",
    "- python에서의 string, int, list, dic, ... 모두가 다 클래스로 존재 \n",
    "- 예를들어 학생이라는 클래스를 만든다면, 학생을 나타내는 속성과 학생이 행하는 행동을 함께 정의할 수 있음\n",
    "- 따라서, 다루고자 하는 데이터(변수)와 데이터를 다루는 연산(함수)를 하나로 캡슐화(encapsulation)하여 클래스로 표현\n",
    "- 모델링에서 중요시 하는 속성에 따라 클래스의 속성과 행동이 각각 달라짐"
   ]
  },
  {
   "cell_type": "markdown",
   "metadata": {},
   "source": [
    "## object란?\n",
    "\n",
    "- 클래스로 생성되어 구체화된 객체(인스턴스)\n",
    "- 파이썬의 모든것 (int,str,list,ect) 들은 객체(인스턴스)\n",
    "- 실제로 class가 인스턴스화 되어 메모리에 상주하는 상태를 의미\n",
    "- class가 빵틀이라면, object는 실제로 빵틀로 찍어낸 빵이라고 비유 가능"
   ]
  },
  {
   "cell_type": "code",
   "execution_count": 2,
   "metadata": {},
   "outputs": [
    {
     "name": "stdout",
     "output_type": "stream",
     "text": [
      "[1, 2, 3, 4, 5]\n"
     ]
    }
   ],
   "source": [
    "a = [1, 2, 3, 4,]\n",
    "a.append(5)\n",
    "print(a)\n",
    "# 클래스는 단순히 타입을 정의해주는데 있다,"
   ]
  },
  {
   "cell_type": "markdown",
   "metadata": {},
   "source": [
    "### class 선언하기\n",
    "- 객체를 생성하기 위해선 객체의 모체가 되는 class를 미리 선언해야 한다."
   ]
  },
  {
   "cell_type": "code",
   "execution_count": 6,
   "metadata": {},
   "outputs": [],
   "source": [
    "class Person :\n",
    "    # 빈 클래스를 만드려면 pass를 사용\n",
    "    # 없으면 에러가 발생\n",
    "    pass"
   ]
  },
  {
   "cell_type": "code",
   "execution_count": 8,
   "metadata": {},
   "outputs": [
    {
     "name": "stdout",
     "output_type": "stream",
     "text": [
      "<class '__main__.Person'> <class '__main__.Person'>\n",
      "<class 'list'> <class 'list'>\n"
     ]
    }
   ],
   "source": [
    "# 함수를 호출 하듯 \n",
    "bob = Person()\n",
    "cathy = Person()\n",
    "\n",
    "a = list()\n",
    "b = list()\n",
    "\n",
    "print(type(bob), type(cathy))\n",
    "print(type(a), type(b))\n"
   ]
  },
  {
   "cell_type": "code",
   "execution_count": null,
   "metadata": {},
   "outputs": [],
   "source": []
  }
 ],
 "metadata": {
  "kernelspec": {
   "display_name": "Python 3",
   "language": "python",
   "name": "python3"
  },
  "language_info": {
   "codemirror_mode": {
    "name": "ipython",
    "version": 3
   },
   "file_extension": ".py",
   "mimetype": "text/x-python",
   "name": "python",
   "nbconvert_exporter": "python",
   "pygments_lexer": "ipython3",
   "version": "3.7.4"
  }
 },
 "nbformat": 4,
 "nbformat_minor": 2
}
