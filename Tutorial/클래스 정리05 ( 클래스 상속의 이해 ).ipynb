{
 "cells": [
  {
   "cell_type": "markdown",
   "metadata": {},
   "source": [
    "# 클래스 상속의 이해 (코드를 재사용하기)\n",
    "\n",
    "__class Inheritance(상속)__  \n",
    "\n",
    "- 기존에 정의해둔 클래스의 기능을 그대로 물려받을 수 있다.\n",
    "- 기존 클래스에 기능 일부를 추가하거나, 변경하여 새로운 클래스를 정의 한다. \n",
    "- 코드를 재사용할 수 있게 된다.\n",
    "- 상속 하고자 하는 기존 클래스는 (Parent, Super, Base Class) 라고 부른다.\n",
    "- 상속 받는 새로운 클래스는 (Child, Sub, Derived Class) 라고 부른다.\n",
    "- 의미적으로 is-a 관계를 갖는다. "
   ]
  },
  {
   "cell_type": "code",
   "execution_count": 5,
   "metadata": {},
   "outputs": [
    {
     "name": "stdout",
     "output_type": "stream",
     "text": [
      "Bob은 BBQ를 먹는다.\n",
      "Bob은 30 분동안 잡니다.\n",
      "Bob은 180분동안 일합니다.\n"
     ]
    }
   ],
   "source": [
    "# 학생과 직장인 클래스를 만들때 둘은 자고,먹는다라는 공통점을 갖는다. \n",
    "# 그것을 어떻게 해결할지 알아보자.\n",
    "# 위에 is-a 관계가 이런것이다.\n",
    "# Student is a Person\n",
    "# Employee is a Person\n",
    "class Person :\n",
    "        def __init__ (self, name, age) :\n",
    "            self.name = name\n",
    "            self.age = age\n",
    "        \n",
    "        # 공통적인 먹고 자는 기능을 추가\n",
    "        def eat(self, food) :\n",
    "            print('{}은 {}를 먹는다.'.format(self.name, food))\n",
    "            \n",
    "        def sleep(self, minute) :\n",
    "            print('{}은 {} 분동안 잡니다.'.format(self.name, minute))\n",
    "        \n",
    "        def work(self, minute) :\n",
    "            print('{}은 {}분동안 일합니다.'.format(self.name, minute))\n",
    "            \n",
    "            \n",
    "# 상속을 받기 위해선 Class name뒤에 (상속받고자하는명)\n",
    "class Student(Person) :\n",
    "        def __init__ (self, name, age) :\n",
    "            self.name = name\n",
    "            self.age = age\n",
    "            \n",
    "class Employee (Person) :\n",
    "        def __init__ (self, name, age) :\n",
    "            self.name = name\n",
    "            self.age = age\n",
    "            \n",
    "            \n",
    "bob = Student('Bob',25)\n",
    "bob.eat('BBQ')\n",
    "bob.sleep(30)\n",
    "bob.work(180)"
   ]
  },
  {
   "cell_type": "markdown",
   "metadata": {},
   "source": [
    "위의 경우문제가 없어보이지만 학생은 일이 아닌 공부를 한다 이걸 수정해볼 필요가 있어보인다. \n",
    "\n",
    "### method override\n",
    "- 부모 클래스의 method를 재정의 (override)\n",
    "- 하위 클래스(자식 클래스)의 인스턴스로 호출시, 재정의된 매소드가 호출된다."
   ]
  },
  {
   "cell_type": "code",
   "execution_count": 8,
   "metadata": {},
   "outputs": [
    {
     "name": "stdout",
     "output_type": "stream",
     "text": [
      "Bob은 BBQ를 먹는다.\n",
      "Bob은 30 분동안 잡니다.\n",
      "Bob은 180분동안 일합니다.\n",
      "\n",
      "Baby은 BBQ를 먹는다.\n",
      "Baby은 30 분동안 잡니다.\n",
      "Baby은 180분동안 공부합니다.\n"
     ]
    }
   ],
   "source": [
    "# 학생과 직장인 클래스를 만들때 둘은 자고,먹는다라는 공통점을 갖는다. \n",
    "# 그것을 어떻게 해결할지 알아보자.\n",
    "# 위에 is-a 관계가 이런것이다.\n",
    "# Student is a Person\n",
    "# Employee is a Person\n",
    "class Person :\n",
    "        def __init__ (self, name, age) :\n",
    "            self.name = name\n",
    "            self.age = age\n",
    "        \n",
    "        # 공통적인 먹고 자는 기능을 추가\n",
    "        def eat(self, food) :\n",
    "            print('{}은 {}를 먹는다.'.format(self.name, food))\n",
    "            \n",
    "        def sleep(self, minute) :\n",
    "            print('{}은 {} 분동안 잡니다.'.format(self.name, minute))\n",
    "        \n",
    "        def work(self, minute) :\n",
    "            print('{}은 {}분동안 일합니다.'.format(self.name, minute))\n",
    "            \n",
    "            \n",
    "# 상속을 받기 위해선 Class name뒤에 (상속받고자하는명)\n",
    "class Student(Person) :\n",
    "        def __init__ (self, name, age) :\n",
    "            self.name = name\n",
    "            self.age = age\n",
    "        \n",
    "        # 위의 일한다는 안어울리니 공부한다로 수정\n",
    "        def work(self, minute) :\n",
    "            print('{}은 {}분동안 공부합니다.'.format(self.name, minute))\n",
    "            \n",
    "            \n",
    "class Employee (Person) :\n",
    "        def __init__ (self, name, age) :\n",
    "            self.name = name\n",
    "            self.age = age\n",
    "            \n",
    "            \n",
    "bob = Person('Bob',25)\n",
    "bob.eat('BBQ')\n",
    "bob.sleep(30)\n",
    "bob.work(180)\n",
    "\n",
    "print()\n",
    "\n",
    "bob = Student('Baby',11)\n",
    "bob.eat('BBQ')\n",
    "bob.sleep(30)\n",
    "bob.work(180)"
   ]
  },
  {
   "cell_type": "markdown",
   "metadata": {},
   "source": [
    "그런데 이렇게 overriding이 되면 그다음 부터는 부모의 기능이 완전히 사라지게 된다. 이 사라진 기능을 다시 호출 하기 위해선 __super__ 를 사용해야한다."
   ]
  },
  {
   "cell_type": "markdown",
   "metadata": {},
   "source": [
    "### super\n",
    "- 하위클래스(자식 클래스)에서 부모 클래스의 method를 호출할 때 사용"
   ]
  },
  {
   "cell_type": "code",
   "execution_count": 9,
   "metadata": {},
   "outputs": [
    {
     "name": "stdout",
     "output_type": "stream",
     "text": [
      "Baby은 BBQ를 먹는다.\n",
      "Baby은 30 분동안 잡니다.\n",
      "Baby은 180분동안 준비를 합니다.\n",
      "Baby은 180분동안 공부합니다.\n"
     ]
    }
   ],
   "source": [
    "# 학생과 직장인 클래스를 만들때 둘은 자고,먹는다라는 공통점을 갖는다. \n",
    "# 그것을 어떻게 해결할지 알아보자.\n",
    "# 위에 is-a 관계가 이런것이다.\n",
    "# Student is a Person\n",
    "# Employee is a Person\n",
    "class Person :\n",
    "        def __init__ (self, name, age) :\n",
    "            self.name = name\n",
    "            self.age = age\n",
    "        \n",
    "        # 공통적인 먹고 자는 기능을 추가\n",
    "        def eat(self, food) :\n",
    "            print('{}은 {}를 먹는다.'.format(self.name, food))\n",
    "            \n",
    "        def sleep(self, minute) :\n",
    "            print('{}은 {} 분동안 잡니다.'.format(self.name, minute))\n",
    "        \n",
    "        def work(self, minute) :\n",
    "            print('{}은 {}분동안 준비를 합니다.'.format(self.name, minute))\n",
    "            \n",
    "            \n",
    "# 상속을 받기 위해선 Class name뒤에 (상속받고자하는명)\n",
    "class Student(Person) :\n",
    "        def __init__ (self, name, age) :\n",
    "            self.name = name\n",
    "            self.age = age\n",
    "        \n",
    "        # 위의 일한다는 안어울리니 공부한다로 수정\n",
    "        def work(self, minute) :\n",
    "            \n",
    "            # 여기서 super가 이용된다.\n",
    "            super().work(minute)\n",
    "            print('{}은 {}분동안 공부합니다.'.format(self.name, minute))\n",
    "            \n",
    "            \n",
    "class Employee (Person) :\n",
    "        def __init__ (self, name, age) :\n",
    "            self.name = name\n",
    "            self.age = age\n",
    "        \n",
    "        def work(self, minute) :\n",
    "            super().work(minute)\n",
    "            print('{}은 {}분동안 업무합니다.'.format(self.name, minute))\n",
    "            \n",
    "bob = Student('Baby',11)\n",
    "bob.eat('BBQ')\n",
    "bob.sleep(30)\n",
    "bob.work(180)"
   ]
  },
  {
   "cell_type": "code",
   "execution_count": null,
   "metadata": {},
   "outputs": [],
   "source": []
  }
 ],
 "metadata": {
  "kernelspec": {
   "display_name": "Python 3",
   "language": "python",
   "name": "python3"
  },
  "language_info": {
   "codemirror_mode": {
    "name": "ipython",
    "version": 3
   },
   "file_extension": ".py",
   "mimetype": "text/x-python",
   "name": "python",
   "nbconvert_exporter": "python",
   "pygments_lexer": "ipython3",
   "version": "3.7.4"
  }
 },
 "nbformat": 4,
 "nbformat_minor": 2
}
