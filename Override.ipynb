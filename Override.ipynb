{
 "cells": [
  {
   "cell_type": "markdown",
   "metadata": {},
   "source": [
    "# 파이썬의 오버라이드의 특징 비교\n",
    "\n",
    "오버라이드(Override)\n",
    "-같은 이름을 가진 메소드를 덮어쓴다는 뜻"
   ]
  },
  {
   "cell_type": "code",
   "execution_count": 12,
   "metadata": {},
   "outputs": [
    {
     "name": "stdout",
     "output_type": "stream",
     "text": [
      "잘생겼다\n"
     ]
    }
   ],
   "source": [
    "class father() : \n",
    "    def handsome(self) :\n",
    "        print(\"잘생겼다\")\n",
    "\n",
    "class brother(father) :\n",
    "    '''아들'''\n",
    "    \n",
    "class sister(father) :\n",
    "    def pretty(self) :\n",
    "        print(\"예쁘다\")\n",
    "    def handsome(self) :\n",
    "        self.pretty()\n",
    "        \n",
    "brother = brother()\n",
    "brother.handsome()\n",
    "\n"
   ]
  },
  {
   "cell_type": "code",
   "execution_count": 13,
   "metadata": {},
   "outputs": [
    {
     "name": "stdout",
     "output_type": "stream",
     "text": [
      "예쁘다\n"
     ]
    }
   ],
   "source": [
    "girl = sister()\n",
    "girl.handsome()\n",
    "\n",
    "# 딸은 따로 예쁘다를 가지고 있기 떄문에 잘생겼다에서 오버라이딩 되었다.\n",
    "# 하지만 이것은 딸에게만 영향을 미치며, 아빠와는 무관하다."
   ]
  },
  {
   "cell_type": "code",
   "execution_count": null,
   "metadata": {},
   "outputs": [],
   "source": [
    "    "
   ]
  }
 ],
 "metadata": {
  "kernelspec": {
   "display_name": "Python 3",
   "language": "python",
   "name": "python3"
  },
  "language_info": {
   "codemirror_mode": {
    "name": "ipython",
    "version": 3
   },
   "file_extension": ".py",
   "mimetype": "text/x-python",
   "name": "python",
   "nbconvert_exporter": "python",
   "pygments_lexer": "ipython3",
   "version": "3.5.5"
  }
 },
 "nbformat": 4,
 "nbformat_minor": 2
}
