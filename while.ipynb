{
 "cells": [
  {
   "cell_type": "markdown",
   "metadata": {},
   "source": [
    "# 파이썬의 while의 조건문을 통한 개념\n",
    "\n",
    "while 문은 조건이 참인 경우에만 계속 실행하는 반복문이다."
   ]
  },
  {
   "cell_type": "code",
   "execution_count": 1,
   "metadata": {},
   "outputs": [
    {
     "name": "stdout",
     "output_type": "stream",
     "text": [
      "입력하세요. (단,철수,영희,짱구 셋만 가능합니다)철\n",
      "입력하세요. (단,철수,영희,짱구 셋만 가능합니다)철수\n",
      "선택한 값은 : 철수\n"
     ]
    }
   ],
   "source": [
    "selected = None # 변수초기화\n",
    "\n",
    "while selected not in ['철수','영희','짱구'] :\n",
    "    # while 문을 사용하여 철수,영희,짱구가 들어오지 않을 경우 실해하다\n",
    "    \n",
    "    selected = input('입력하세요. (단,철수,영희,짱구 셋만 가능합니다)')\n",
    "    #철수 영희 짱구가 안나오면 무한반복\n",
    "    \n",
    "print(\"선택한 값은 : {}\".format(selected))"
   ]
  },
  {
   "cell_type": "code",
   "execution_count": 2,
   "metadata": {},
   "outputs": [
    {
     "name": "stdout",
     "output_type": "stream",
     "text": [
      "입력하세요. (단,철수,영희,짱구 셋만 가능합니다)aa\n",
      "선택한 값은 : aa\n"
     ]
    }
   ],
   "source": [
    "selected = None # 변수초기화\n",
    "\n",
    "if selected not in ['철수','영희','짱구'] :\n",
    "    \n",
    "    selected = input('입력하세요. (단,철수,영희,짱구 셋만 가능합니다)')\n",
    "    \n",
    "print(\"선택한 값은 : {}\".format(selected))"
   ]
  },
  {
   "cell_type": "markdown",
   "metadata": {},
   "source": [
    "설정값에 상관없이 입력만 하면 반복문이 종료된다"
   ]
  },
  {
   "cell_type": "markdown",
   "metadata": {},
   "source": [
    "## for vs while"
   ]
  },
  {
   "cell_type": "code",
   "execution_count": 4,
   "metadata": {},
   "outputs": [
    {
     "name": "stdout",
     "output_type": "stream",
     "text": [
      "철수\n",
      "영희\n",
      "짱구\n"
     ]
    }
   ],
   "source": [
    "selected = ['철수', '영희', '짱구']\n",
    "for select in selected:\n",
    "    print(select)\n"
   ]
  },
  {
   "cell_type": "code",
   "execution_count": null,
   "metadata": {},
   "outputs": [],
   "source": []
  }
 ],
 "metadata": {
  "kernelspec": {
   "display_name": "Python 3",
   "language": "python",
   "name": "python3"
  },
  "language_info": {
   "codemirror_mode": {
    "name": "ipython",
    "version": 3
   },
   "file_extension": ".py",
   "mimetype": "text/x-python",
   "name": "python",
   "nbconvert_exporter": "python",
   "pygments_lexer": "ipython3",
   "version": "3.5.5"
  }
 },
 "nbformat": 4,
 "nbformat_minor": 2
}
