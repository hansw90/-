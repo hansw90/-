{
 "cells": [
  {
   "cell_type": "code",
   "execution_count": 8,
   "metadata": {},
   "outputs": [],
   "source": [
    "\"\"\"\n",
    "    파이썬의 클래스를 이용하면 프로그래머가 원하는 새로운 타입을 만들 수 있다.\n",
    "    생성된 타입은 데이터와 데이터를 처리하는 메서드(함수)로 구성돼 있다.\n",
    "\"\"\"\n",
    "\n",
    "class BusinessCard:\n",
    "        def set_info(self, name, email, addr):\n",
    "                self.name = name\n",
    "                self.email = email\n",
    "                self.addr = addr\n",
    "        def print_info(self):\n",
    "                print(\"--------------------\")\n",
    "                print(\"Name: \", self.name)\n",
    "                print(\"E-mail: \", self.email)\n",
    "                print(\"Address: \", self.addr)\n",
    "                print(\"--------------------\")"
   ]
  },
  {
   "cell_type": "code",
   "execution_count": 9,
   "metadata": {},
   "outputs": [],
   "source": [
    "member1 = BusinessCard()\n",
    "member1.set_info(\"YunaKim\", \"yuna.kim@naver.com\", \"Seoul\")"
   ]
  },
  {
   "cell_type": "code",
   "execution_count": 10,
   "metadata": {},
   "outputs": [
    {
     "data": {
      "text/plain": [
       "('YunaKim', 'yuna.kim@naver.com', 'Seoul')"
      ]
     },
     "execution_count": 10,
     "metadata": {},
     "output_type": "execute_result"
    }
   ],
   "source": [
    "member1.name , member1.email, member1.addr"
   ]
  },
  {
   "cell_type": "code",
   "execution_count": 11,
   "metadata": {},
   "outputs": [],
   "source": [
    "member2 = BusinessCard()\n",
    "member2.set_info(\"Sarang Lee\", \"sarang.lee@naver.com\", \"Kyunggi\")"
   ]
  },
  {
   "cell_type": "code",
   "execution_count": 12,
   "metadata": {},
   "outputs": [
    {
     "data": {
      "text/plain": [
       "('Sarang Lee', 'sarang.lee@naver.com', 'Kyunggi')"
      ]
     },
     "execution_count": 12,
     "metadata": {},
     "output_type": "execute_result"
    }
   ],
   "source": [
    "member2.name , member2.email, member2.addr"
   ]
  },
  {
   "cell_type": "code",
   "execution_count": 13,
   "metadata": {},
   "outputs": [
    {
     "ename": "TypeError",
     "evalue": "BusinessCard() takes no arguments",
     "output_type": "error",
     "traceback": [
      "\u001b[1;31m---------------------------------------------------------------------------\u001b[0m",
      "\u001b[1;31mTypeError\u001b[0m                                 Traceback (most recent call last)",
      "\u001b[1;32m<ipython-input-13-5d8002e26a8f>\u001b[0m in \u001b[0;36m<module>\u001b[1;34m()\u001b[0m\n\u001b[1;32m----> 1\u001b[1;33m \u001b[0mmember1\u001b[0m \u001b[1;33m=\u001b[0m \u001b[0mBusinessCard\u001b[0m\u001b[1;33m(\u001b[0m\u001b[1;34m\"Kangsan Lee\"\u001b[0m\u001b[1;33m,\u001b[0m \u001b[1;34m\"kangsan.lee\"\u001b[0m\u001b[1;33m,\u001b[0m \u001b[1;34m\"USA\"\u001b[0m\u001b[1;33m)\u001b[0m\u001b[1;33m\u001b[0m\u001b[0m\n\u001b[0m\u001b[0;32m      2\u001b[0m \u001b[0mmember1\u001b[0m\u001b[1;33m.\u001b[0m\u001b[0mprint_info\u001b[0m\u001b[1;33m(\u001b[0m\u001b[1;33m)\u001b[0m\u001b[1;33m\u001b[0m\u001b[0m\n",
      "\u001b[1;31mTypeError\u001b[0m: BusinessCard() takes no arguments"
     ]
    }
   ],
   "source": [
    "member1 = BusinessCard(\"Kangsan Lee\", \"kangsan.lee\", \"USA\")\n",
    "member1.print_info()"
   ]
  },
  {
   "cell_type": "markdown",
   "metadata": {},
   "source": [
    "왜 에러가 발생할까??"
   ]
  },
  {
   "cell_type": "code",
   "execution_count": 14,
   "metadata": {},
   "outputs": [],
   "source": [
    "class BusinessCard:\n",
    "        def __init__(self, name, email, addr):\n",
    "                self.name = name\n",
    "                self.email = email\n",
    "                self.addr = addr\n",
    "        def print_info(self):\n",
    "                print(\"--------------------\")\n",
    "                print(\"Name: \", self.name)\n",
    "                print(\"E-mail: \", self.email)\n",
    "                print(\"Address: \", self.addr)\n",
    "                print(\"--------------------\")\n",
    "                \n",
    "# 클래스내에 정의된 함수를 메서드라고 한다."
   ]
  },
  {
   "cell_type": "code",
   "execution_count": 15,
   "metadata": {},
   "outputs": [
    {
     "name": "stdout",
     "output_type": "stream",
     "text": [
      "--------------------\n",
      "Name:  Kangsan Lee\n",
      "E-mail:  kangsan.lee\n",
      "Address:  USA\n",
      "--------------------\n"
     ]
    }
   ],
   "source": [
    "member1 = BusinessCard(\"Kangsan Lee\", \"kangsan.lee\", \"USA\")\n",
    "member1.print_info()"
   ]
  },
  {
   "cell_type": "markdown",
   "metadata": {},
   "source": [
    "# self에 대해 좀더 알아보자"
   ]
  },
  {
   "cell_type": "code",
   "execution_count": 16,
   "metadata": {},
   "outputs": [],
   "source": [
    "class Foo:\n",
    "        def func1():\n",
    "                print(\"function 1\")\n",
    "        def func2(self):\n",
    "                print(\"function 2\")"
   ]
  },
  {
   "cell_type": "code",
   "execution_count": 17,
   "metadata": {},
   "outputs": [
    {
     "name": "stdout",
     "output_type": "stream",
     "text": [
      "function 2\n"
     ]
    }
   ],
   "source": [
    "f = Foo()\n",
    "f.func2()"
   ]
  },
  {
   "cell_type": "code",
   "execution_count": 18,
   "metadata": {},
   "outputs": [
    {
     "ename": "TypeError",
     "evalue": "func1() takes 0 positional arguments but 1 was given",
     "output_type": "error",
     "traceback": [
      "\u001b[1;31m---------------------------------------------------------------------------\u001b[0m",
      "\u001b[1;31mTypeError\u001b[0m                                 Traceback (most recent call last)",
      "\u001b[1;32m<ipython-input-18-d7d514da12af>\u001b[0m in \u001b[0;36m<module>\u001b[1;34m()\u001b[0m\n\u001b[1;32m----> 1\u001b[1;33m \u001b[0mf\u001b[0m\u001b[1;33m.\u001b[0m\u001b[0mfunc1\u001b[0m\u001b[1;33m(\u001b[0m\u001b[1;33m)\u001b[0m\u001b[1;33m\u001b[0m\u001b[0m\n\u001b[0m",
      "\u001b[1;31mTypeError\u001b[0m: func1() takes 0 positional arguments but 1 was given"
     ]
    }
   ],
   "source": [
    "f.func1()"
   ]
  },
  {
   "cell_type": "markdown",
   "metadata": {},
   "source": [
    "\"\"\"\n",
    "func1 메서드처럼 메서드를 정의할 때부터 아무 인자도 없는 경우에는 어떻게 될까요? \n",
    "다음과 같이 인스턴스를 통해 func1()을 호출해보면 오류가 발생합니다. 오류 메시지를 살펴보면 \n",
    "“func1()은 인자가 없지만 하나를 받았다”라는 것을 볼 수 있습니다. \n",
    "이는 앞서 설명한 것처럼 파이썬 메서드의 첫 번째 인자로 항상 인스턴스가 전달되기 때문에 발생하는 문제입니다.\n",
    "\"\"\""
   ]
  },
  {
   "cell_type": "code",
   "execution_count": 19,
   "metadata": {},
   "outputs": [],
   "source": [
    "class Foo:\n",
    "        def func1():\n",
    "                print(\"function 1\")\n",
    "\n",
    "        def func2(self):\n",
    "                print(id(self))\n",
    "                print(\"function 2\")\n"
   ]
  },
  {
   "cell_type": "code",
   "execution_count": 20,
   "metadata": {},
   "outputs": [
    {
     "data": {
      "text/plain": [
       "2932445160168"
      ]
     },
     "execution_count": 20,
     "metadata": {},
     "output_type": "execute_result"
    }
   ],
   "source": [
    "f = Foo()\n",
    "id(f)"
   ]
  },
  {
   "cell_type": "code",
   "execution_count": 21,
   "metadata": {},
   "outputs": [
    {
     "name": "stdout",
     "output_type": "stream",
     "text": [
      "2932445160168\n",
      "function 2\n"
     ]
    }
   ],
   "source": [
    "f.func2()"
   ]
  },
  {
   "cell_type": "markdown",
   "metadata": {},
   "source": [
    "\"\"\"\n",
    "실행 결과를 살펴보면 2023614033704이라는 값이 출력되는 것을 확인할 수 있습니다.\n",
    "Foo 클래스를 정의할 때 id(self)를 출력하게 했는데 id(self)의 값이 바로 2023614033704인 것입니다.\n",
    "이 값은f라는 변수가 바인딩하고 있는 인스턴스의 주솟값과 동일합니다.\n",
    "즉, 클래스 내에 정의된 self는 클래스 인스턴스임을 알 수 있습니다.\n",
    "\"\"\""
   ]
  },
  {
   "cell_type": "code",
   "execution_count": 22,
   "metadata": {},
   "outputs": [
    {
     "name": "stdout",
     "output_type": "stream",
     "text": [
      "function 1\n"
     ]
    }
   ],
   "source": [
    "Foo.func1()"
   ]
  },
  {
   "cell_type": "code",
   "execution_count": 23,
   "metadata": {},
   "outputs": [
    {
     "ename": "TypeError",
     "evalue": "func1() takes 0 positional arguments but 1 was given",
     "output_type": "error",
     "traceback": [
      "\u001b[1;31m---------------------------------------------------------------------------\u001b[0m",
      "\u001b[1;31mTypeError\u001b[0m                                 Traceback (most recent call last)",
      "\u001b[1;32m<ipython-input-23-d7d514da12af>\u001b[0m in \u001b[0;36m<module>\u001b[1;34m()\u001b[0m\n\u001b[1;32m----> 1\u001b[1;33m \u001b[0mf\u001b[0m\u001b[1;33m.\u001b[0m\u001b[0mfunc1\u001b[0m\u001b[1;33m(\u001b[0m\u001b[1;33m)\u001b[0m\u001b[1;33m\u001b[0m\u001b[0m\n\u001b[0m",
      "\u001b[1;31mTypeError\u001b[0m: func1() takes 0 positional arguments but 1 was given"
     ]
    }
   ],
   "source": [
    "f.func1()"
   ]
  },
  {
   "cell_type": "markdown",
   "metadata": {},
   "source": [
    "파이썬의 클래스는 그 자체가 하나의 네임스페이스이기 때문에 인스턴스 생성과 상관없이 클래스 내의 메서드를 직접 호출할 수 있습니다(네임스페이스는 다음 절에서 설명합니다).\n",
    "인스턴스.메서드() 형태로 호출한 것과 달리 이번에는 클래스명.메서드() 형태로 호출했기 때문입니다."
   ]
  },
  {
   "cell_type": "code",
   "execution_count": 24,
   "metadata": {},
   "outputs": [
    {
     "name": "stdout",
     "output_type": "stream",
     "text": [
      "2932445160168\n",
      "function 2\n"
     ]
    }
   ],
   "source": [
    "Foo.func2(f) \n",
    "#정상작동"
   ]
  },
  {
   "cell_type": "code",
   "execution_count": null,
   "metadata": {},
   "outputs": [],
   "source": []
  }
 ],
 "metadata": {
  "kernelspec": {
   "display_name": "Python 3",
   "language": "python",
   "name": "python3"
  },
  "language_info": {
   "codemirror_mode": {
    "name": "ipython",
    "version": 3
   },
   "file_extension": ".py",
   "mimetype": "text/x-python",
   "name": "python",
   "nbconvert_exporter": "python",
   "pygments_lexer": "ipython3",
   "version": "3.7.0"
  }
 },
 "nbformat": 4,
 "nbformat_minor": 2
}
